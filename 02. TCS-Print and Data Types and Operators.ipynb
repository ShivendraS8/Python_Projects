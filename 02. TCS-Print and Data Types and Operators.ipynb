{
 "cells": [
  {
   "cell_type": "code",
   "execution_count": 9,
   "id": "48704c82-f1c2-4fe0-a838-2dc86f4103d0",
   "metadata": {},
   "outputs": [
    {
     "name": "stdout",
     "output_type": "stream",
     "text": [
      "Output of above declared variable is: 4\n"
     ]
    }
   ],
   "source": [
    "#Python can be used as calculator where we dont need to necessarily define a variable before using it.\n",
    "\n",
    "x=4\n",
    "print(\"Output of above declared variable is:\",x)"
   ]
  },
  {
   "cell_type": "code",
   "execution_count": null,
   "id": "996bb2b1-934d-4d9c-a65d-5e0a30cd25f5",
   "metadata": {},
   "outputs": [],
   "source": [
    "# Introduction to print in Python\n",
    "\"\"\"\n",
    "1. Printing without using print funciton\n",
    "2. Printing with older format\n",
    "3. Printing with f string\n",
    "4. Printing with .format()\n",
    "\"\"\""
   ]
  },
  {
   "cell_type": "code",
   "execution_count": 20,
   "id": "a24251ef-fffd-4a64-bc2d-854eb2f2a50c",
   "metadata": {},
   "outputs": [
    {
     "name": "stdout",
     "output_type": "stream",
     "text": [
      "Sum of 2 and 3 is: 5\n",
      "Sum of 2 and 3 is: 5\n",
      "Sum of 2 and 3 is: 5\n",
      "Sum of 3 and 5 is: 5\n"
     ]
    }
   ],
   "source": [
    "a=2\n",
    "b=3\n",
    "#a+b\n",
    "\n",
    "print(\"Sum of\",a,\"and\",b,\"is:\",a+b)# old method\n",
    "print(f\"Sum of {a} and {b} is: {a+b}\") # f string\n",
    "print(\"Sum of {} and {} is: {}\".format(a,b,a+b))\n",
    "\n",
    "print(\"Sum of {1} and {2} is: {2}\".format(2,3,2+3))\n"
   ]
  },
  {
   "cell_type": "code",
   "execution_count": null,
   "id": "351121ac-0369-456d-b910-d10663c29601",
   "metadata": {},
   "outputs": [],
   "source": [
    "x=\"Love\"\n",
    "y=\"Python\"\n",
    "# Write text as output \"I Love Python!. Python! Loves me\"\n",
    "#print(\"I {0} {1}!. {1}! {0}s me\".format(x,y))\n"
   ]
  },
  {
   "cell_type": "code",
   "execution_count": 21,
   "id": "ba3667cd-d66c-466d-a504-bcdecc47473c",
   "metadata": {},
   "outputs": [
    {
     "ename": "SyntaxError",
     "evalue": "invalid syntax (1843975135.py, line 2)",
     "output_type": "error",
     "traceback": [
      "\u001b[1;36m  Cell \u001b[1;32mIn[21], line 2\u001b[1;36m\u001b[0m\n\u001b[1;33m    na me=2\u001b[0m\n\u001b[1;37m       ^\u001b[0m\n\u001b[1;31mSyntaxError\u001b[0m\u001b[1;31m:\u001b[0m invalid syntax\n"
     ]
    }
   ],
   "source": [
    "# What will be the output of below code\n",
    "# below code will result into error as it has space in variable name\n",
    "na me=2\n",
    "print(\"Here is the value of above declared variable: \",na me)"
   ]
  },
  {
   "cell_type": "code",
   "execution_count": 22,
   "id": "508cd1d0-0cae-4411-a01d-7d4ab86aa2c8",
   "metadata": {},
   "outputs": [
    {
     "name": "stdout",
     "output_type": "stream",
     "text": [
      "Here is the value of above declared variable:  2\n"
     ]
    }
   ],
   "source": [
    "name=2\n",
    "print(\"Here is the value of above declared variable: \",name)"
   ]
  },
  {
   "cell_type": "code",
   "execution_count": 23,
   "id": "1f050618-346f-448c-9a33-688285a01ea8",
   "metadata": {},
   "outputs": [
    {
     "name": "stdout",
     "output_type": "stream",
     "text": [
      "Here is the value of above declared variable:  2\n"
     ]
    }
   ],
   "source": [
    "_name=2\n",
    "print(\"Here is the value of above declared variable: \",_name)"
   ]
  },
  {
   "cell_type": "code",
   "execution_count": 24,
   "id": "890dc714-58c6-49a7-9672-fe11df10e091",
   "metadata": {},
   "outputs": [
    {
     "ename": "NameError",
     "evalue": "name 'python' is not defined",
     "output_type": "error",
     "traceback": [
      "\u001b[1;31m---------------------------------------------------------------------------\u001b[0m",
      "\u001b[1;31mNameError\u001b[0m                                 Traceback (most recent call last)",
      "Cell \u001b[1;32mIn[24], line 2\u001b[0m\n\u001b[0;32m      1\u001b[0m \u001b[38;5;66;03m# What will be the output of below code\u001b[39;00m\n\u001b[1;32m----> 2\u001b[0m text\u001b[38;5;241m=\u001b[39m\u001b[43mpython\u001b[49m\n\u001b[0;32m      3\u001b[0m \u001b[38;5;28mprint\u001b[39m(\u001b[38;5;124m\"\u001b[39m\u001b[38;5;124mHere is the value of above declared variable: \u001b[39m\u001b[38;5;124m\"\u001b[39m,text)\n",
      "\u001b[1;31mNameError\u001b[0m: name 'python' is not defined"
     ]
    }
   ],
   "source": [
    "# What will be the output of below code\n",
    "text=python\n",
    "print(\"Here is the value of above declared variable: \",text)"
   ]
  },
  {
   "cell_type": "code",
   "execution_count": 25,
   "id": "edb8fe89-a275-46fe-8ec7-2cf3444f8d21",
   "metadata": {},
   "outputs": [
    {
     "name": "stdout",
     "output_type": "stream",
     "text": [
      "Here is the value of above declared variable:  python\n"
     ]
    }
   ],
   "source": [
    "text=\"python\"\n",
    "print(\"Here is the value of above declared variable: \",text)"
   ]
  },
  {
   "cell_type": "code",
   "execution_count": 26,
   "id": "8afbbb9b-0f38-4a1a-b73b-49ba042e0aa1",
   "metadata": {},
   "outputs": [
    {
     "name": "stdout",
     "output_type": "stream",
     "text": [
      "Here is the value of above declared variable:  python\n"
     ]
    }
   ],
   "source": [
    "text='python'\n",
    "print(\"Here is the value of above declared variable: \",text)"
   ]
  },
  {
   "cell_type": "code",
   "execution_count": 29,
   "id": "aca6e075-ca2c-41fb-9410-00e22937ead5",
   "metadata": {},
   "outputs": [
    {
     "name": "stdout",
     "output_type": "stream",
     "text": [
      "My name is: shivendrashukla\n",
      "My name is: shivendrashukla\n"
     ]
    }
   ],
   "source": [
    "#concatenation of string\n",
    "# print name and surname together using upper and capitalize function\n",
    "name='shivendra'\n",
    "sur_name='shukla'\n",
    "print(\"My name is:\",name+sur_name)\n",
    "print(f\"My name is: {name+sur_name}\")"
   ]
  },
  {
   "cell_type": "code",
   "execution_count": 33,
   "id": "7311307f-eaff-4165-936b-66d8a35e004e",
   "metadata": {},
   "outputs": [
    {
     "name": "stdout",
     "output_type": "stream",
     "text": [
      "I love Python!\n",
      "IlovePython!\n",
      "----------\n"
     ]
    }
   ],
   "source": [
    "print(\"I \"+\"love \"+\"Python!\")\n",
    "print(\"I\"+\"love\"+\"Python!\")\n",
    "print(\"-\"*10)"
   ]
  },
  {
   "cell_type": "code",
   "execution_count": 34,
   "id": "7535244a-64ef-40c4-939a-a0f37ecada04",
   "metadata": {},
   "outputs": [
    {
     "ename": "TypeError",
     "evalue": "can only concatenate str (not \"int\") to str",
     "output_type": "error",
     "traceback": [
      "\u001b[1;31m---------------------------------------------------------------------------\u001b[0m",
      "\u001b[1;31mTypeError\u001b[0m                                 Traceback (most recent call last)",
      "Cell \u001b[1;32mIn[34], line 3\u001b[0m\n\u001b[0;32m      1\u001b[0m \u001b[38;5;66;03m# output of this code\u001b[39;00m\n\u001b[0;32m      2\u001b[0m version\u001b[38;5;241m=\u001b[39m\u001b[38;5;241m3\u001b[39m\n\u001b[1;32m----> 3\u001b[0m \u001b[38;5;28mprint\u001b[39m(\u001b[38;5;124;43m\"\u001b[39;49m\u001b[38;5;124;43mI love Python \u001b[39;49m\u001b[38;5;124;43m\"\u001b[39;49m\u001b[38;5;241;43m+\u001b[39;49m\u001b[38;5;241;43m3\u001b[39;49m)\n",
      "\u001b[1;31mTypeError\u001b[0m: can only concatenate str (not \"int\") to str"
     ]
    }
   ],
   "source": [
    "# output of this code\n",
    "version=3\n",
    "print(\"I love Python \"+version)"
   ]
  },
  {
   "cell_type": "code",
   "execution_count": 36,
   "id": "d9260cba-5df6-4905-b2ec-7cecf3819658",
   "metadata": {},
   "outputs": [
    {
     "name": "stdout",
     "output_type": "stream",
     "text": [
      "I love Python 3\n",
      "I love Python 3\n"
     ]
    }
   ],
   "source": [
    "version=\"3\"\n",
    "print(\"I love Python \"+version)\n",
    "\n",
    "print(\"I love Python \"+\"3\")"
   ]
  },
  {
   "cell_type": "code",
   "execution_count": 43,
   "id": "4bd76f28-c732-47e4-86fc-5e350508a6b2",
   "metadata": {},
   "outputs": [
    {
     "name": "stdout",
     "output_type": "stream",
     "text": [
      "Fruit    | Quantity\n",
      "-------- | --------\n",
      "Apple    |    3.092\n",
      "Orange   |    10.00\n"
     ]
    }
   ],
   "source": [
    "# Additional, formatting in Print\n",
    "\n",
    "print(\"{0:8} | {1:>8}\".format(\"Fruit\",\"Quantity\"))\n",
    "print(\"{0:8} | {1:>8}\".format(\"-\"*8,\"-\"*8))\n",
    "print(\"{0:8} | {1:>8.3f}\".format(\"Apple\",3.0923))\n",
    "print(\"{0:8} | {1:>8.2f}\".format(\"Orange\",10))"
   ]
  },
  {
   "cell_type": "code",
   "execution_count": 49,
   "id": "42a5c990-44d1-4f42-ab55-fa2a94b13c5e",
   "metadata": {},
   "outputs": [
    {
     "name": "stdout",
     "output_type": "stream",
     "text": [
      "data type of a is: <class 'int'>\n",
      "data type of a is: <class 'float'>\n"
     ]
    }
   ],
   "source": [
    "# Introduction to type()\n",
    "a=2\n",
    "b=2.30\n",
    "print(f\"data type of a is: {type(a)}\")\n",
    "print(f\"data type of a is: {type(b)}\")"
   ]
  },
  {
   "cell_type": "code",
   "execution_count": 57,
   "id": "72373727-ead8-4fb4-8e39-773c18bd9360",
   "metadata": {},
   "outputs": [
    {
     "name": "stdout",
     "output_type": "stream",
     "text": [
      "data type of 5 is: <class 'int'>\n",
      "data type of 1256 is: <class 'str'>\n",
      "Product of 5 and 5 is: 275\n",
      "Remainder of 55 divided by 5 is: 0\n",
      "Cube of 7 is: 343\n",
      "Upper of Data is: DATA\n",
      "Shivendra\n"
     ]
    }
   ],
   "source": [
    "#Exercise in class\n",
    "num1=55\n",
    "num2=5\n",
    "word='python'\n",
    "word2='Data'\n",
    "c='1256'\n",
    "#what is data type of num2\n",
    "print(f\"data type of {num2} is: {type(num2)}\")\n",
    "\n",
    "#what is data type of c\n",
    "print(f\"data type of {c} is: {type(c)}\")\n",
    "\n",
    "#what is product of num1 and num2\n",
    "print(f\"Product of {num2} and {num2} is: {num1*num2}\")\n",
    "\n",
    "#what is remainder of num1 divided by num2\n",
    "print(f\"Remainder of {num1} divided by {num2} is: {num1%num2}\")\n",
    "\n",
    "#what is cube of 7\n",
    "print(f\"Cube of 7 is: {7**3}\")\n",
    "\n",
    "#write word2 in capital letters\n",
    "print(f\"Upper of {word2} is: {word2.upper()}\")\n",
    "\n",
    "name=\"shivendra\"\n",
    "print(name.capitalize())\n"
   ]
  },
  {
   "cell_type": "code",
   "execution_count": 62,
   "id": "271dde24-040a-44bc-a767-95db64fcb7ed",
   "metadata": {},
   "outputs": [
    {
     "name": "stdout",
     "output_type": "stream",
     "text": [
      "It's a great news!\n",
      "she said \"That's a great news\"\n"
     ]
    }
   ],
   "source": [
    "# Print below text as output\n",
    "# It's a great news!\n",
    "a=\"It's a great news!\"\n",
    "print(a)\n",
    "# \"It is a great news!\"\n",
    "# \"It's a great news!\"\n",
    "\n",
    "c=\"she said \\\"That's a great news\\\"\"\n",
    "print(c)\n"
   ]
  },
  {
   "cell_type": "markdown",
   "id": "efd4cbcf-34ef-4dd9-8dce-ab34356d742e",
   "metadata": {},
   "source": [
    "### Numeric operations\n",
    "\n",
    "|Operator|Meaning|\n",
    "|:--------:|:--------|\n",
    "|\\+|Addition|  \n",
    "|\\-|Substraction|  \n",
    "|\\*|Multiplication|  \n",
    "|/|Division  \n",
    "|**|Exponentiate|  \n",
    "|%|Modulo|  \n"
   ]
  },
  {
   "cell_type": "code",
   "execution_count": 23,
   "id": "6ea6fc42-4c9e-44e7-8a07-f5d33c880adf",
   "metadata": {},
   "outputs": [],
   "source": [
    "# Exercise on Numerical operators\n",
    "a=25\n",
    "b=5"
   ]
  },
  {
   "cell_type": "code",
   "execution_count": 24,
   "id": "c9b0cf0a-ce27-47e2-8cb0-a06b3d996312",
   "metadata": {},
   "outputs": [],
   "source": [
    "# Exercise in class\n",
    "\n",
    "a=500\n",
    "b=10\n",
    "# what is the sum of a and b\n",
    "\n",
    "# what is the product of a and b\n",
    "\n",
    "# what is the remainder of a and b\n",
    "\n",
    "# what is the cube of 4\n",
    "\n",
    "# what is the data type of c='340.5'\n",
    "\n",
    "# convert the string into capital form, d='python'\n",
    "\n",
    "# what is the square root of 36\n",
    "\n",
    "# take your name and gender in 2 variables and print as below>>\n",
    "# my name is ----- and i am a -------\n",
    "name='shiv'\n",
    "gender='male'\n"
   ]
  }
 ],
 "metadata": {
  "kernelspec": {
   "display_name": "Python 3 (ipykernel)",
   "language": "python",
   "name": "python3"
  },
  "language_info": {
   "codemirror_mode": {
    "name": "ipython",
    "version": 3
   },
   "file_extension": ".py",
   "mimetype": "text/x-python",
   "name": "python",
   "nbconvert_exporter": "python",
   "pygments_lexer": "ipython3",
   "version": "3.11.0"
  }
 },
 "nbformat": 4,
 "nbformat_minor": 5
}
