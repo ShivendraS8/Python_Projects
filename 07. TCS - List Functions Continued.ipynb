{
 "cells": [
  {
   "cell_type": "markdown",
   "metadata": {},
   "source": [
    "# .pop() function\n",
    ".pop() function is a method used to remove and return the element at a specified index from a list. It modifies the original list by removing the specified element and returning its value. If no index is provided, .pop() removes and returns the last element of the list. If we try to pop an index that doesn't exist (i.e., an index out of range), a IndexError will be raised. \n",
    "\n",
    "__Syntax__:\n",
    "    removed_element = list_name.pop(index)\n",
    "\n",
    "- __list_name__ is the name of the list from which you want to remove the element.\n",
    "- __index__ is the optional index of the element you want to remove. If not provided, .pop() removes and returns the last element of the list."
   ]
  },
  {
   "cell_type": "code",
   "execution_count": 2,
   "metadata": {},
   "outputs": [
    {
     "name": "stdout",
     "output_type": "stream",
     "text": [
      "removed_element:  3\n",
      "list after removal of index 2 element:  [1, 2, 4, 5]\n"
     ]
    }
   ],
   "source": [
    "my_list = [1, 2, 3, 4, 5]\n",
    "removed_element = my_list.pop(2)\n",
    "print(\"removed_element: \",removed_element)  # Output: 3\n",
    "print(\"list after removal of index 2 element: \",my_list)          # Output: [1, 2, 4, 5]"
   ]
  },
  {
   "cell_type": "code",
   "execution_count": 3,
   "metadata": {},
   "outputs": [
    {
     "name": "stdout",
     "output_type": "stream",
     "text": [
      "\n",
      "last_element of list is:  5\n",
      "List after removal of last element : [1, 2, 4]\n"
     ]
    }
   ],
   "source": [
    "# What if no index number is provided\n",
    "last_element = my_list.pop()\n",
    "print(\"\\nlast_element of list is: \",last_element)  # Output: 5\n",
    "print(\"List after removal of last element :\", my_list)       # Output: [1, 2, 4]"
   ]
  },
  {
   "cell_type": "code",
   "execution_count": 15,
   "metadata": {},
   "outputs": [
    {
     "name": "stdout",
     "output_type": "stream",
     "text": [
      "Fruits:  ['apple', 'banana', 'kiwi', 'cherry', 'mango']\n",
      "Fruits after adding spinach:  ['apple', 'banana', 'kiwi', 'cherry', 'mango', 'spinach']\n",
      "Fruits after adding carrot:  ['apple', 'banana', 'kiwi', 'carrot', 'cherry', 'mango', 'spinach']\n",
      "Fruits after adding list:  ['apple', 'banana', 'kiwi', 'carrot', 'cherry', 'mango', 'spinach', 'potato', 'cabbage']\n",
      "Fruits after adding grapes:  ['apple', 'banana', 'kiwi', 'carrot', 'cherry', 'mango', 'spinach', 'potato', 'cabbage', 'grapes']\n",
      "Fruits after removing spinach:  ['apple', 'banana', 'kiwi', 'carrot', 'cherry', 'mango', 'potato', 'cabbage', 'grapes']\n",
      "Fruits after removing carrot:  ['apple', 'banana', 'kiwi', 'cherry', 'mango', 'potato', 'cabbage', 'grapes']\n",
      "Fruits after removing element at second position:  ['apple', 'kiwi', 'cherry', 'mango', 'potato', 'cabbage', 'grapes']\n",
      "Fruits after removing cabbage:  ['apple', 'kiwi', 'cherry', 'mango', 'potato', 'grapes']\n",
      "Fruits after adding beans at 3rd position:  ['apple', 'kiwi', 'cherry', 'beans', 'mango', 'potato', 'grapes']\n",
      "Fruits after adding brinjal at 4th index:  ['apple', 'kiwi', 'cherry', 'beans', 'brinjal', 'mango', 'potato', 'grapes']\n"
     ]
    }
   ],
   "source": [
    "# cerate a list of 5 fruits\n",
    "fruits=['apple','banana','kiwi','cherry','mango']\n",
    "print(\"Fruits: \",fruits)\n",
    "\n",
    "# add 'spinach' to it\n",
    "fruits.append(\"spinach\")\n",
    "print(\"Fruits after adding spinach: \",fruits)\n",
    "\n",
    "# add carrot at 3rd index\n",
    "fruits.insert(3,\"carrot\")\n",
    "print(\"Fruits after adding carrot: \",fruits)\n",
    "\n",
    "# add list of veggies ['potato','cabbage'] to the fruit list\n",
    "fruits=fruits+['potato','cabbage']\n",
    "print(\"Fruits after adding list: \",fruits)\n",
    "\n",
    "# add grapes at the end of the list\n",
    "fruits.append(\"grapes\")\n",
    "print(\"Fruits after adding grapes: \",fruits)\n",
    "\n",
    "# remove spinach from the list\n",
    "fruits.remove(\"spinach\")\n",
    "print(\"Fruits after removing spinach: \",fruits)\n",
    "\n",
    "# remove carrot from the list\n",
    "fruits.remove(\"carrot\")\n",
    "print(\"Fruits after removing carrot: \",fruits)\n",
    "\n",
    "# remove the fruit present at second position\n",
    "fruits.pop(1)\n",
    "print(\"Fruits after removing element at second position: \",fruits)\n",
    "\n",
    "# remove cabbage from the list\n",
    "fruits.remove(\"cabbage\")\n",
    "print(\"Fruits after removing cabbage: \",fruits)\n",
    "\n",
    "# add beans at 4th position\n",
    "fruits.insert(3,\"beans\")\n",
    "print(\"Fruits after adding beans at 3rd position: \",fruits)\n",
    "\n",
    "# add brinjal to 4th index\n",
    "fruits.insert(4,\"brinjal\")\n",
    "print(\"Fruits after adding brinjal at 4th index: \",fruits)\n",
    "\n",
    "# create a list of 4 friends\n",
    "friends=['sunny','amit','inder','anita']\n",
    "#print(friends)\n",
    "\n",
    "# add your name to the last of list\n",
    "\n",
    "# remove your second friend from the list\n",
    "\n",
    "# remove your name from the list\n"
   ]
  },
  {
   "cell_type": "markdown",
   "metadata": {},
   "source": [
    "# .max() method for python lists\n",
    "max() function is used to find the maximum value in an iterable, such as a list. When used with a list, max() returns the largest element in that list.\n",
    "\n",
    "__Syntax__:\n",
    "    max_value = max(iterable, *[, default=obj, key=func])\n",
    "\n",
    "- **iterable**: An iterable such as a list, tuple, etc., from which the largest item is to be found.\n",
    "- **default**: A value to return if the provided iterable is empty. This parameter is optional.\n",
    "- **key**: A single argument function that takes an item from iterable and returns a comparison key. This parameter is optional and can be used to specify a function to be called on each element prior to making comparisons."
   ]
  },
  {
   "cell_type": "code",
   "execution_count": 16,
   "metadata": {},
   "outputs": [
    {
     "name": "stdout",
     "output_type": "stream",
     "text": [
      "80\n"
     ]
    }
   ],
   "source": [
    "numbers = [10, 20, 80, 40, 50]\n",
    "print(max(numbers))  # Output: 80"
   ]
  },
  {
   "cell_type": "code",
   "execution_count": 17,
   "metadata": {},
   "outputs": [
    {
     "name": "stdout",
     "output_type": "stream",
     "text": [
      "banana\n"
     ]
    }
   ],
   "source": [
    "# using key parameter\n",
    "words = [\"apple\", \"banana\", \"cherry\", \"date\"]\n",
    "print(max(words, key=len))  # Output: \"banana\""
   ]
  },
  {
   "cell_type": "code",
   "execution_count": 20,
   "metadata": {},
   "outputs": [
    {
     "name": "stdout",
     "output_type": "stream",
     "text": [
      "Empty\n"
     ]
    }
   ],
   "source": [
    "# using default parameter\n",
    "print(max([], default=\"Empty\"))  # Output: \"Empty\""
   ]
  },
  {
   "cell_type": "code",
   "execution_count": 21,
   "metadata": {},
   "outputs": [
    {
     "name": "stdout",
     "output_type": "stream",
     "text": [
      "[10, 11, 12]\n"
     ]
    }
   ],
   "source": [
    "# Finding maximum in list of lists\n",
    "matrix = [[1, 2, 3], [4, 5, 6], [7, 8, 9], [10, 11, 12]]\n",
    "\n",
    "# Find the sublist with the highest sum of elements\n",
    "print(max(matrix, key=sum))  # Output: [10, 11, 12]"
   ]
  },
  {
   "cell_type": "code",
   "execution_count": 22,
   "metadata": {},
   "outputs": [
    {
     "data": {
      "text/plain": [
       "45"
      ]
     },
     "execution_count": 22,
     "metadata": {},
     "output_type": "execute_result"
    }
   ],
   "source": [
    "#aggregation functions\n",
    "b=[12,23,34,45,43,21]\n",
    "max(b)"
   ]
  },
  {
   "cell_type": "code",
   "execution_count": 24,
   "metadata": {},
   "outputs": [
    {
     "data": {
      "text/plain": [
       "'aarav'"
      ]
     },
     "execution_count": 24,
     "metadata": {},
     "output_type": "execute_result"
    }
   ],
   "source": [
    "c=['akash','aarav','zohal']\n",
    "max(c)\n",
    "min(c)"
   ]
  },
  {
   "cell_type": "markdown",
   "metadata": {},
   "source": [
    "# .min() method for python lists\n",
    "min() function is used to find the minimum value in an iterable, such as a list. When used with a list, min() returns the smallest element in that list.\n",
    "\n",
    "__Syntax__:\n",
    "    min_value = min(iterable, *[, default=obj, key=func])\n",
    "\n",
    "- **iterable**: An iterable such as a list, tuple, etc., from which the largest item is to be found.\n",
    "- **default**: A value to return if the provided iterable is empty. This parameter is optional.\n",
    "- **key**: A single argument function that takes an item from iterable and returns a comparison key. This parameter is optional and can be used to specify a function to be called on each element prior to making comparisons."
   ]
  },
  {
   "cell_type": "code",
   "execution_count": null,
   "metadata": {},
   "outputs": [],
   "source": [
    "numbers = [10, 20, 80, 40, 50]\n",
    "print(min(numbers))  # Output: 80"
   ]
  },
  {
   "cell_type": "code",
   "execution_count": null,
   "metadata": {},
   "outputs": [],
   "source": [
    "# using key parameter\n",
    "words = [\"apple\", \"banana\", \"cherry\", \"date\"]\n",
    "print(min(words, key=len))  # Output: \"banana\""
   ]
  },
  {
   "cell_type": "code",
   "execution_count": null,
   "metadata": {},
   "outputs": [],
   "source": [
    "# Finding minimum in list of lists\n",
    "matrix = [[1, 2, 3], [4, 5, 6], [7, 8, 9], [10, 11, 12]]\n",
    "\n",
    "# Find the sublist with the lowest sum of elements\n",
    "print(min(matrix, key=sum))  # Output: [10, 11, 12]"
   ]
  },
  {
   "cell_type": "code",
   "execution_count": null,
   "metadata": {},
   "outputs": [],
   "source": [
    "# using default parameter\n",
    "print(min([], default=\"Empty\"))  # Output: \"Empty\""
   ]
  },
  {
   "cell_type": "markdown",
   "metadata": {},
   "source": [
    "# .sum() method for lists in python\n",
    "sum() function is used to calculate the sum of all elements in an iterable, such as a list. It returns the total sum of all numeric values in the iterable.\n",
    "\n",
    "The sum() function can also accept an optional start value, which is added to the sum of the iterable's elements. This is useful if you want to start summing from a value other than 0."
   ]
  },
  {
   "cell_type": "code",
   "execution_count": 28,
   "metadata": {},
   "outputs": [
    {
     "name": "stdout",
     "output_type": "stream",
     "text": [
      "15\n"
     ]
    }
   ],
   "source": [
    "numbers = [1, 2, 3, 4, 5]\n",
    "total = sum(numbers)\n",
    "print(total)  # Output: 15"
   ]
  },
  {
   "cell_type": "code",
   "execution_count": 30,
   "metadata": {},
   "outputs": [
    {
     "name": "stdout",
     "output_type": "stream",
     "text": [
      "25\n"
     ]
    }
   ],
   "source": [
    "# Sum with start value option\n",
    "numbers = [1, 2, 3, 4, 5]\n",
    "start_value = 10\n",
    "total = sum(numbers, start_value)\n",
    "print(total)  # Output: 25 (10 + 1 + 2 + 3 + 4 + 5)"
   ]
  },
  {
   "cell_type": "code",
   "execution_count": 29,
   "metadata": {},
   "outputs": [
    {
     "name": "stdout",
     "output_type": "stream",
     "text": [
      "45\n",
      "12\n",
      "114\n",
      "144\n"
     ]
    }
   ],
   "source": [
    "# d=[12,23,34,45]\n",
    "d=[12,23,34,45]\n",
    "# Find max\n",
    "print(max(d))\n",
    "\n",
    "# Find min\n",
    "print(min(d))\n",
    "\n",
    "\n",
    "# Find sum\n",
    "print(sum(d))\n",
    "\n",
    "#add 30 to the list and show the sum\n",
    "print(sum(d,30))"
   ]
  },
  {
   "cell_type": "markdown",
   "metadata": {},
   "source": [
    "# .reverse() method for lists in Python\n",
    "reverse() method is used to reverse the order of elements in a list. It modifies the original list in place by reversing the order of its elements."
   ]
  },
  {
   "cell_type": "code",
   "execution_count": 30,
   "metadata": {},
   "outputs": [
    {
     "name": "stdout",
     "output_type": "stream",
     "text": [
      "[5, 4, 3, 2, 1]\n"
     ]
    }
   ],
   "source": [
    "my_list = [1, 2, 3, 4, 5]\n",
    "my_list.reverse()\n",
    "print(my_list)  # Output: [5, 4, 3, 2, 1]"
   ]
  },
  {
   "cell_type": "code",
   "execution_count": 36,
   "metadata": {},
   "outputs": [
    {
     "name": "stdout",
     "output_type": "stream",
     "text": [
      "[12, 23, 34, 45, 19]\n",
      "None\n",
      "[19, 45, 34, 23, 12]\n"
     ]
    }
   ],
   "source": [
    "# Reverse below list\n",
    "d=[12,23,34,45,19]\n",
    "print(d)\n",
    "print(d.reverse())\n",
    "print(d)"
   ]
  },
  {
   "cell_type": "markdown",
   "metadata": {},
   "source": [
    "# .sort() method for lists in python\n",
    "sort() method is used to sort the elements of a list in place. It modifies the original list, reordering its elements based on the default sorting order defined by the data type of the elements."
   ]
  },
  {
   "cell_type": "code",
   "execution_count": 38,
   "metadata": {},
   "outputs": [
    {
     "name": "stdout",
     "output_type": "stream",
     "text": [
      "[1, 2, 3, 4, 5]\n"
     ]
    }
   ],
   "source": [
    "my_list = [3, 1, 4, 2, 5]\n",
    "my_list.sort()\n",
    "print(my_list)  # Output: [1, 2, 3, 4, 5]"
   ]
  },
  {
   "cell_type": "markdown",
   "metadata": {},
   "source": [
    "### .sort() with reverse=True parameter\n",
    "The sort() method arranges the elements of the list in ascending order by default. If you want to sort the elements in descending order, you can use the reverse parameter"
   ]
  },
  {
   "cell_type": "code",
   "execution_count": 34,
   "metadata": {},
   "outputs": [
    {
     "name": "stdout",
     "output_type": "stream",
     "text": [
      "[5, 4, 3, 2, 1]\n"
     ]
    }
   ],
   "source": [
    "my_list = [3, 1, 4, 2, 5]\n",
    "my_list.sort(reverse=True)\n",
    "print(my_list)  # Output: [5, 4, 3, 2, 1]"
   ]
  },
  {
   "cell_type": "markdown",
   "metadata": {},
   "source": [
    "# .count() method for lists in python\n",
    "count() method is used to count the number of occurrences of a specific element in a list. It returns the number of times the specified element appears in the list.\n",
    "\n",
    "If the specified element does not exist, it returns 0."
   ]
  },
  {
   "cell_type": "code",
   "execution_count": 39,
   "metadata": {},
   "outputs": [
    {
     "name": "stdout",
     "output_type": "stream",
     "text": [
      "3\n"
     ]
    }
   ],
   "source": [
    "my_list = [1, 2, 3, 4, 2, 5, 2]\n",
    "count_of_2 = my_list.count(2)\n",
    "print(count_of_2)  # Output: 3 (2 appears three times in the list)"
   ]
  },
  {
   "cell_type": "code",
   "execution_count": 40,
   "metadata": {},
   "outputs": [
    {
     "data": {
      "text/plain": [
       "1"
      ]
     },
     "execution_count": 40,
     "metadata": {},
     "output_type": "execute_result"
    }
   ],
   "source": [
    "# count number of 2 and 5 from below list\n",
    "m=[1,2,3,4,2,3,4,2,2,5,6]\n",
    "\n",
    "# count number of 2\n",
    "m.count(2)\n",
    "# count number of 5\n",
    "m.count(5)"
   ]
  },
  {
   "cell_type": "code",
   "execution_count": 43,
   "metadata": {},
   "outputs": [
    {
     "name": "stdout",
     "output_type": "stream",
     "text": [
      "None\n",
      "['aarav', 'abram', 'akash', 'bhavesh', 'ramesh', 'shyam']\n"
     ]
    }
   ],
   "source": [
    "# sort below list in ascending and descending order\n",
    "j=['akash','shyam','bhavesh','aarav','abram','ramesh']\n",
    "j.sort()\n",
    "print(j)"
   ]
  },
  {
   "cell_type": "code",
   "execution_count": null,
   "metadata": {},
   "outputs": [],
   "source": [
    "f=[13,24,35,53,21,89,95,68]\n",
    "\n",
    "# Find Max\n",
    "# Find Min\n",
    "# second highest number\n",
    "# show the second lowest number\n",
    "# show sum of all elements\n",
    "# how many times 21 is in the list\n",
    "# remove 13 from the list\n",
    "# what is the average of all elements in the list\n",
    "# what is the 3rd hightest number in the list"
   ]
  }
 ],
 "metadata": {
  "kernelspec": {
   "display_name": "base",
   "language": "python",
   "name": "python3"
  },
  "language_info": {
   "codemirror_mode": {
    "name": "ipython",
    "version": 3
   },
   "file_extension": ".py",
   "mimetype": "text/x-python",
   "name": "python",
   "nbconvert_exporter": "python",
   "pygments_lexer": "ipython3",
   "version": "3.11.0"
  }
 },
 "nbformat": 4,
 "nbformat_minor": 2
}
