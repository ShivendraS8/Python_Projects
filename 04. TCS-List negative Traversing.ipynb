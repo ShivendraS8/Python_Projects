{
 "cells": [
  {
   "cell_type": "markdown",
   "id": "de363c6c-c1e6-4c06-946e-d4a69a26d9f3",
   "metadata": {},
   "source": [
    "# Reverse traversing in list\r\n",
    "To traverse list in opposite direction, mention '-', in place of step size"
   ]
  },
  {
   "cell_type": "code",
   "execution_count": 22,
   "id": "077d5831-da5e-457e-acb8-9e5dafbd1095",
   "metadata": {},
   "outputs": [
    {
     "name": "stdout",
     "output_type": "stream",
     "text": [
      "[1, 2, 3, 4, 5, 6, 7, 8, 9, 10]\n",
      "[10, 9, 8, 7, 6, 5, 4, 3, 2, 1]\n",
      "[10, 8, 6, 4, 2]\n",
      "[9, 6, 3]\n",
      "[8, 4]\n",
      "[10, 5]\n",
      "[7, 6, 5, 4, 3]\n",
      "Positive: [7, 6, 5, 4, 3]\n",
      "[8, 7, 6, 5]\n",
      "Pos:  [8, 7, 6, 5]\n",
      "[9, 7, 5, 3]\n",
      "Pos:  [9, 7, 5, 3]\n",
      "Negative [5, 4, 3]\n",
      "Pos:  [5, 4, 3]\n"
     ]
    }
   ],
   "source": [
    "my_list=[1,2,3,4,5,6,7,8,9,10]\n",
    "print(my_list)\n",
    "# print the list in reverse order\n",
    "print(my_list[::-1])\n",
    "\n",
    "# print multiple of 2 from the list in reverse order\n",
    "print(my_list[::-2])\n",
    "\n",
    "# print multiple of 3 from the list in reverse order\n",
    "print(my_list[-2::-3])\n",
    "\n",
    "# print multiple of 4 from the list in reverse order\n",
    "print(my_list[-3::-4])\n",
    "\n",
    "# print multiple of 5 from the list in reverse order\n",
    "print(my_list[::-5])\n",
    "\n",
    "# extract numbers from 3 to 7 in reverse order\n",
    "print(my_list[-4:-9:-1])\n",
    "print(\"Positive:\",my_list[6:1:-1])\n",
    "\n",
    "# extract numbers from 5 to 8 in reverse order\n",
    "print(my_list[-3:-7:-1])\n",
    "print(\"Pos: \",my_list[7:3:-1])\n",
    "\n",
    "# extract 9,7,5,3 in reverse order\n",
    "print(my_list[-2:-9:-2])\n",
    "\n",
    "# Solve above problem with positive indexing as well a[8:1:-2]\n",
    "print(\"Pos: \",my_list[8:1:-2])\n",
    "\n",
    "# extract 5,4,3 in reverse order\n",
    "print(\"Negative\",my_list[-6:-9:-1])\n",
    "\n",
    "# solve above problem with positive indexing as well\n",
    "print(\"Pos: \",my_list[4:1:-1])\n"
   ]
  },
  {
   "cell_type": "code",
   "execution_count": 29,
   "id": "e639db36-a0a1-4239-8511-c9007632c76a",
   "metadata": {},
   "outputs": [
    {
     "name": "stdout",
     "output_type": "stream",
     "text": [
      "p\n",
      "th\n",
      "ardnevihs\n",
      "aaaa\n",
      "malayalam\n"
     ]
    },
    {
     "data": {
      "text/plain": [
       "True"
      ]
     },
     "execution_count": 29,
     "metadata": {},
     "output_type": "execute_result"
    }
   ],
   "source": [
    "list='python'\n",
    "#Print the first character of string\n",
    "print(list[0])\n",
    "#Print \"th\" from string\n",
    "print(list[2:4])\n",
    "\n",
    "name='shivendra'\n",
    "#Print above name in reverse\n",
    "print(name[::-1])\n",
    "\n",
    "text='malayalam'\n",
    "#Print all a from text\n",
    "print(text[1::2])\n",
    "\n",
    "#Print text string in reverse\n",
    "print(text[::-1])\n",
    "\n",
    "# Check if text is palindrome\n",
    "text==text[::-1]"
   ]
  },
  {
   "cell_type": "code",
   "execution_count": 31,
   "id": "90c434e1-0a64-4f06-b508-917349634e31",
   "metadata": {},
   "outputs": [
    {
     "name": "stdout",
     "output_type": "stream",
     "text": [
      "__\n",
      "ima\n"
     ]
    }
   ],
   "source": [
    "a='i_m_a'\n",
    "#Extract all underscore from above string\n",
    "print(a[1::2])\n",
    "\n",
    "#Extract ima from above sting\n",
    "print(a[::2])"
   ]
  },
  {
   "cell_type": "code",
   "execution_count": 44,
   "id": "dfc23719-3cd6-4217-8528-7b8fe23627a9",
   "metadata": {},
   "outputs": [
    {
     "name": "stdout",
     "output_type": "stream",
     "text": [
      "20\n",
      "[13, 14, 15, 16]\n",
      "[14, 15, 16, 17, 18, 19, 20]\n",
      "[12, 14, 16]\n",
      "[18, 17, 16, 15]\n",
      "[18, 16, 14]\n",
      "[20, 15]\n",
      "[20, 19, 18, 17, 16, 15, 14, 13, 12, 11]\n",
      "analyst\n",
      "i am\n",
      "tsylana\n",
      "ma\n"
     ]
    }
   ],
   "source": [
    "num_list=[11,12,13,14,15,16,17,18,19,20]\n",
    "\n",
    "# Print the last element\n",
    "print(num_list[-1])\n",
    "\n",
    "# Print 13 to 16\n",
    "print(num_list[2:6])\n",
    "\n",
    "# Print 14 to end\n",
    "print(num_list[3:])\n",
    "\n",
    "# Print 12,14,16\n",
    "print(num_list[1:6:2])\n",
    "\n",
    "# Print 18,17,16,15\n",
    "print(num_list[-3:-7:-1])\n",
    "\n",
    "# Print 18,16,14\n",
    "print(num_list[-3:-8:-2])\n",
    "\n",
    "# Print 20,15\n",
    "print(num_list[::-5])\n",
    "\n",
    "# reverse the list\n",
    "print(num_list[::-1])\n",
    "\n",
    "s='i am a analyst'\n",
    "# Print analyst\n",
    "print(s[7:])\n",
    "\n",
    "# Print i am\n",
    "print(s[:4])\n",
    "\n",
    "#analyst in reverse\n",
    "print(s[-1:-8:-1])\n",
    "\n",
    "#ma in reverse\n",
    "print(s[-11:-13:-1])"
   ]
  }
 ],
 "metadata": {
  "kernelspec": {
   "display_name": "Python 3 (ipykernel)",
   "language": "python",
   "name": "python3"
  },
  "language_info": {
   "codemirror_mode": {
    "name": "ipython",
    "version": 3
   },
   "file_extension": ".py",
   "mimetype": "text/x-python",
   "name": "python",
   "nbconvert_exporter": "python",
   "pygments_lexer": "ipython3",
   "version": "3.11.0"
  }
 },
 "nbformat": 4,
 "nbformat_minor": 5
}
