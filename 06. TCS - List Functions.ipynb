{
 "cells": [
  {
   "cell_type": "markdown",
   "metadata": {},
   "source": [
    "# Append() Method\n",
    "\n",
    "Appending in a Python list refers to adding an element to the end of the list. There are two main ways to achieve this:\n",
    "\n",
    "__Syntax__:\n",
    "\n",
    "    list_name.append(element)\n",
    "\n",
    "**Using the append() method:**\n",
    "\n",
    "This is the most common and straightforward way to append an element to a list. The append() method takes one argument, which is the element you want to add. It modifies the original list in-place.\n",
    "\n",
    "**Using the + operator with list concatenation:**\n",
    "\n",
    "You can also use the + operator to concatenate two lists, effectively adding the elements of the second list to the end of the first list. This creates a new list and does not modify the original one.\n",
    "\n",
    "Here are some additional points to keep in mind about appending in Python lists:\n",
    "\n",
    "1. You can append any type of element to a list, not just strings.\n",
    "2. You can also append another list to a list, which will add all the elements of the second list to the end of the first list.\n",
    "3. Remember that the append() method modifies the original list in-place, while the + operator creates a new list."
   ]
  },
  {
   "cell_type": "code",
   "execution_count": 16,
   "metadata": {},
   "outputs": [
    {
     "name": "stdout",
     "output_type": "stream",
     "text": [
      "[1, 2, 3, 4, 5]\n",
      "[1, 2, 3, 4, 5, 10]\n",
      "[1, 2, 3, 4, 5, 10, 11]\n",
      "Elements of list m after assignment are:  [1, 2, 3, 4, 5, 10, 11]\n",
      "Elements of list k after assignment are:  [1, 2, 3, 4, 5, 10, 11]\n",
      "\n",
      "Elements of list k after appending 13 to it are:  [1, 2, 3, 4, 5, 10, 11, 13]\n",
      "Elements of list m after appending 13 to k are:  [1, 2, 3, 4, 5, 10, 11, 13]\n",
      "\n",
      "Elements of list k after adding 12 to it through \"+\" are:  [1, 2, 3, 4, 5, 10, 11, 13]\n",
      "Elements of list l after adding 12 to k through \"+\" and assigning result to l are:  [1, 2, 3, 4, 5, 10, 11, 13, 12]\n"
     ]
    }
   ],
   "source": [
    "# append>> add an element in list\n",
    "k=[1,2,3,4]\n",
    "k.append(5)\n",
    "print(k)\n",
    "\n",
    "# add 10 to the list\n",
    "k.append(10)\n",
    "# print output\n",
    "print(k)\n",
    "\n",
    "# add 11 to the list\n",
    "k.append(11)\n",
    "# print output\n",
    "print(k)\n",
    "\n",
    "m=k\n",
    "print(\"Elements of list m after assignment are: \",m)\n",
    "print(\"Elements of list k after assignment are: \",k)\n",
    "\n",
    "# Adding 13 to list k and checking impact of it on both lists i.e., m and k\n",
    "k.append(13)\n",
    "\n",
    "# print k\n",
    "print(\"\\nElements of list k after appending 13 to it are: \",k)\n",
    "\n",
    "# print m\n",
    "print(\"Elements of list m after appending 13 to k are: \",m)\n",
    "\n",
    "# Adding 12 to list k using \"+\" operator and checking impact of it on k\n",
    "l=k+[12]\n",
    "\n",
    "# print k\n",
    "print(\"\\nElements of list k after adding 12 to it through \\\"+\\\" are: \",k)\n",
    "\n",
    "# print l\n",
    "print(\"Elements of list l after adding 12 to k through \\\"+\\\" and assigning result to l are: \",l)"
   ]
  },
  {
   "cell_type": "markdown",
   "metadata": {},
   "source": [
    "## Understanding the difference between .append() and \"+\" by adding list"
   ]
  },
  {
   "cell_type": "code",
   "execution_count": 20,
   "metadata": {},
   "outputs": [
    {
     "name": "stdout",
     "output_type": "stream",
     "text": [
      "\n",
      "Elements of list k after appending 5 to it are:  [1, 2, 3, 4, 5]\n",
      "\n",
      "Elements of list k after appending list_m to it are: [1, 2, 3, 4, 5, [6, 7, 8]]\n",
      "Accessing newly added elements from list k : [6, 7, 8]\n",
      "\n",
      "Elements of list k after adding list_m to it through \"+\"are: [1, 2, 3, 4, 6, 7, 8]\n",
      "Accessing newly added elements from new list: 7\n"
     ]
    }
   ],
   "source": [
    "# Add a list to k using append() method\n",
    "k=[1,2,3,4]\n",
    "k.append(5)\n",
    "print(\"\\nElements of list k after appending 5 to it are: \",k)\n",
    "\n",
    "\n",
    "# defining a list\n",
    "list_m=[6,7,8]\n",
    "k.append(list_m)\n",
    "print(f\"\\nElements of list k after appending list_m to it are: {k}\")\n",
    "print(f\"Accessing newly added elements from list k : {k[5]}\")\n",
    "\n",
    "# Add a list to k using \"+\" operator\n",
    "k=[1,2,3,4]\n",
    "list_m=[6,7,8]\n",
    "print(f\"\\nElements of list k after adding list_m to it through \\\"+\\\"are: {k+list_m}\")\n",
    "print(f\"Accessing newly added elements from new list: {(k+list_m)[5]}\")"
   ]
  },
  {
   "cell_type": "markdown",
   "metadata": {},
   "source": [
    "# insert() Method\n",
    "\n",
    "Inserts an element into a list at a specified index, shifting other elements to the right to make space.\n",
    "\n",
    "**Syntax:**\n",
    "\n",
    "    list.insert(index, element)\n",
    "\n",
    "**Parameters:**\n",
    "\n",
    "1. **index**: The integer index where you want to insert the element. Valid indices range from 0 (beginning) to len(list)-1 (end). Negative indices refer to positions from the end, with -1 being the last element.\n",
    "2. **element**: The element you want to insert. It can be of any data type.\n",
    "\n",
    "**Return Value:** None.\n",
    "\n",
    "The method modifies the list in-place and doesn't return anything.\n",
    "\n",
    "Key Points:\n",
    "\n",
    "1. **Index validity**: Ensure the index is within the valid range to avoid IndexError.\n",
    "2. **Multiple inserts**: You can call insert() multiple times in succession to add multiple elements at different positions."
   ]
  },
  {
   "cell_type": "code",
   "execution_count": null,
   "metadata": {},
   "outputs": [],
   "source": [
    "numbers = [1, 3, 5, 7]\n",
    "numbers.insert(2, 4)  # Insert 4 at index 2 (between 3 and 5)\n",
    "print(numbers)  # Output: [1, 3, 4, 5, 7]\n",
    "\n",
    "names = [\"Alice\", \"Bob\"]\n",
    "names.insert(-1, \"Charlie\")  # Insert Charlie before Bob (using negative index)\n",
    "print(names)  # Output: [\"Alice\", \"Charlie\", \"Bob\"]"
   ]
  },
  {
   "cell_type": "markdown",
   "metadata": {},
   "source": [
    "# .extend() function in python\n",
    "\n",
    ".extend() function is a method used to extend a list by appending elements from another iterable (such as another list, tuple, set, or any iterable object). It takes one argument, which should be an iterable object. The elements of this iterable are added to the end of the list on which .extend() is called.\n",
    "\n",
    "__syntax__:\n",
    "\n",
    "    list_name.extend(iterable)\n",
    "\n",
    ".extend() differs from the .append() method in that .append() adds its argument as a single element to the end of the list, while .extend() adds each element of the iterable individually to the end of the list.\n",
    "\n",
    "__Why prefer .extend() over \"+\"__:\n",
    "\n",
    "- Modifies the list in place by appending elements from another iterable to the end of the list.\n",
    "- Operates on the original list and does not create a new list.\n",
    "- More efficient when working with large lists because it modifies the existing list without creating a new one."
   ]
  },
  {
   "cell_type": "code",
   "execution_count": null,
   "metadata": {},
   "outputs": [],
   "source": [
    "# Define two lists\n",
    "list1 = [1, 2, 3]\n",
    "list2 = [4, 5, 6]\n",
    "\n",
    "# Extend list1 with elements from list2\n",
    "list1.extend(list2)\n",
    "\n",
    "print(list1)  # Output: [1, 2, 3, 4, 5, 6]"
   ]
  },
  {
   "cell_type": "code",
   "execution_count": null,
   "metadata": {},
   "outputs": [],
   "source": [
    "# extend>> used to merge two lists\n",
    "\n",
    "a=[1,2,3]\n",
    "b=[4,5,6]\n",
    "c=[7,8,9]\n",
    "\n",
    "b.extend(c)\n",
    "print(\"Value of b after extending it by value of c is: \",b)\n",
    "\n",
    "c.extend(a)\n",
    "print(\"Value of c after extending it by value of a is: \",c)"
   ]
  },
  {
   "cell_type": "markdown",
   "metadata": {},
   "source": [
    "# .remove() method\n",
    "\n",
    ".remove() method is used to remove the first occurrence of a specified value from a list. It searches for the specified value in the list and removes the first occurrence of that value. If the specified value is not found in the list, a ValueError will be raised.\n",
    "\n",
    "__Syntax__:\n",
    "\n",
    "    list_name.remove(value)\n",
    "\n",
    "    - list_name is the name of the list from which you want to remove the value.\n",
    "    - value is the element you want to remove from the list.\n"
   ]
  },
  {
   "cell_type": "code",
   "execution_count": 21,
   "metadata": {},
   "outputs": [
    {
     "name": "stdout",
     "output_type": "stream",
     "text": [
      "Value of h after removing 7 from it is:  [1, 2, 3, 4]\n",
      "Value of h after removing 3 from it is:  [1, 2, 4]\n"
     ]
    },
    {
     "ename": "ValueError",
     "evalue": "list.remove(x): x not in list",
     "output_type": "error",
     "traceback": [
      "\u001b[1;31m---------------------------------------------------------------------------\u001b[0m",
      "\u001b[1;31mValueError\u001b[0m                                Traceback (most recent call last)",
      "Cell \u001b[1;32mIn[21], line 9\u001b[0m\n\u001b[0;32m      6\u001b[0m h\u001b[38;5;241m.\u001b[39mremove(\u001b[38;5;241m3\u001b[39m)\n\u001b[0;32m      7\u001b[0m \u001b[38;5;28mprint\u001b[39m(\u001b[38;5;124m\"\u001b[39m\u001b[38;5;124mValue of h after removing 3 from it is: \u001b[39m\u001b[38;5;124m\"\u001b[39m,h)\n\u001b[1;32m----> 9\u001b[0m \u001b[43mh\u001b[49m\u001b[38;5;241;43m.\u001b[39;49m\u001b[43mremove\u001b[49m\u001b[43m(\u001b[49m\u001b[38;5;241;43m11\u001b[39;49m\u001b[43m)\u001b[49m\n\u001b[0;32m     10\u001b[0m \u001b[38;5;28mprint\u001b[39m(h)\n",
      "\u001b[1;31mValueError\u001b[0m: list.remove(x): x not in list"
     ]
    }
   ],
   "source": [
    "h=[1,2,7,3,4]\n",
    "h.remove(7)\n",
    "print(\"Value of h after removing 7 from it is: \",h)\n",
    "\n",
    "# delete 3 from list\n",
    "h.remove(3)\n",
    "print(\"Value of h after removing 3 from it is: \",h)\n",
    "\n",
    "h.remove(11)\n",
    "print(h)"
   ]
  },
  {
   "cell_type": "code",
   "execution_count": 22,
   "metadata": {},
   "outputs": [
    {
     "name": "stdout",
     "output_type": "stream",
     "text": [
      "[3, 4, 5, 6, 2, 3]\n"
     ]
    }
   ],
   "source": [
    "# trying to remove second occourance of 2\n",
    "s=[2,3,4,5,6,2,3]\n",
    "s.remove(2)\n",
    "print(s)"
   ]
  },
  {
   "cell_type": "code",
   "execution_count": 23,
   "metadata": {},
   "outputs": [
    {
     "ename": "TypeError",
     "evalue": "list.remove() takes exactly one argument (2 given)",
     "output_type": "error",
     "traceback": [
      "\u001b[1;31m---------------------------------------------------------------------------\u001b[0m",
      "\u001b[1;31mTypeError\u001b[0m                                 Traceback (most recent call last)",
      "Cell \u001b[1;32mIn[23], line 1\u001b[0m\n\u001b[1;32m----> 1\u001b[0m \u001b[43ms\u001b[49m\u001b[38;5;241;43m.\u001b[39;49m\u001b[43mremove\u001b[49m\u001b[43m(\u001b[49m\u001b[38;5;241;43m2\u001b[39;49m\u001b[43m,\u001b[49m\u001b[38;5;241;43m1\u001b[39;49m\u001b[43m)\u001b[49m\n\u001b[0;32m      2\u001b[0m \u001b[38;5;28mprint\u001b[39m(s)\n",
      "\u001b[1;31mTypeError\u001b[0m: list.remove() takes exactly one argument (2 given)"
     ]
    }
   ],
   "source": [
    "s.remove(2,1)\n",
    "print(s)"
   ]
  },
  {
   "cell_type": "code",
   "execution_count": null,
   "metadata": {},
   "outputs": [],
   "source": []
  }
 ],
 "metadata": {
  "kernelspec": {
   "display_name": "base",
   "language": "python",
   "name": "python3"
  },
  "language_info": {
   "codemirror_mode": {
    "name": "ipython",
    "version": 3
   },
   "file_extension": ".py",
   "mimetype": "text/x-python",
   "name": "python",
   "nbconvert_exporter": "python",
   "pygments_lexer": "ipython3",
   "version": "3.11.0"
  }
 },
 "nbformat": 4,
 "nbformat_minor": 2
}
