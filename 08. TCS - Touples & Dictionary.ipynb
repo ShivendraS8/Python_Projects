{
 "cells": [
  {
   "cell_type": "markdown",
   "metadata": {},
   "source": [
    "# Touples Data type:\n",
    "\n",
    "Tuples are a fundamental data structure in Python used to store collections of items. They are similar to lists in many ways, but with one key difference: *tuples are immutable, meaning their contents cannot be changed once they are created. This makes them ideal for situations where you need to ensure the integrity of your data.*\n",
    "\n",
    "Here are some key points about tuples:\n",
    "\n",
    "1. Tuples are enclosed in parentheses ().\n",
    "2. Items can be of any data type (strings, integers, floats, lists, etc.).\n",
    "3. You can create an empty tuple using ().\n",
    "\n",
    "        fruits = (\"apple\", \"banana\", \"cherry\")\n",
    "        empty_tuple = ()\n",
    "        mixed_tuple = (10, \"hello\", [1, 2, 3])\n",
    "\n",
    "- **Elements are accessed using indexing, starting from 0.**\n",
    "- **You cannot modify individual elements like in lists.**\n",
    "\n",
    "        print(fruits[0])  # Output: apple\n",
    "        fruits[1] = \"orange\"  # This will raise an error\n",
    "\n",
    "You can perform common operations like slicing, concatenation, and membership testing.\n",
    "However, operations that modify the tuple are not allowed (e.g., append, insert, remove).\n",
    "\n",
    "    print(fruits[1:3])  # Output: ('banana', 'cherry')\n",
    "    new_fruits = fruits + (\"mango\",)\n",
    "    print(\"mango\" in new_fruits)  # Output: True\n",
    "    \n",
    "## Immutability:\n",
    "\n",
    "This makes tuples useful for:\n",
    "- Representing fixed data like coordinates or configuration settings.\n",
    "- Passing data safely to functions, preventing accidental modification.\n",
    "- Using as dictionary keys (since they are hashable)."
   ]
  },
  {
   "cell_type": "code",
   "execution_count": 63,
   "metadata": {},
   "outputs": [
    {
     "ename": "TypeError",
     "evalue": "can only concatenate tuple (not \"str\") to tuple",
     "output_type": "error",
     "traceback": [
      "\u001b[1;31m---------------------------------------------------------------------------\u001b[0m",
      "\u001b[1;31mTypeError\u001b[0m                                 Traceback (most recent call last)",
      "Cell \u001b[1;32mIn[63], line 3\u001b[0m\n\u001b[0;32m      1\u001b[0m fruits \u001b[38;5;241m=\u001b[39m (\u001b[38;5;124m\"\u001b[39m\u001b[38;5;124mapple\u001b[39m\u001b[38;5;124m\"\u001b[39m, \u001b[38;5;124m\"\u001b[39m\u001b[38;5;124mbanana\u001b[39m\u001b[38;5;124m\"\u001b[39m, \u001b[38;5;124m\"\u001b[39m\u001b[38;5;124mcherry\u001b[39m\u001b[38;5;124m\"\u001b[39m)\n\u001b[0;32m      2\u001b[0m \u001b[38;5;66;03m# Touple concatenation\u001b[39;00m\n\u001b[1;32m----> 3\u001b[0m new_fruits \u001b[38;5;241m=\u001b[39m \u001b[43mfruits\u001b[49m\u001b[43m \u001b[49m\u001b[38;5;241;43m+\u001b[39;49m\u001b[43m \u001b[49m\u001b[43m(\u001b[49m\u001b[38;5;124;43m\"\u001b[39;49m\u001b[38;5;124;43mmango\u001b[39;49m\u001b[38;5;124;43m\"\u001b[39;49m\u001b[43m)\u001b[49m\n\u001b[0;32m      5\u001b[0m \u001b[38;5;66;03m# above statement will result in error as if we want to create a single element touple then we will have to fool python interpreter with a comma after element.\u001b[39;00m\n\u001b[0;32m      6\u001b[0m \u001b[38;5;66;03m# in absence of comma if we run code, then interpreter simply considers brackets as given to define precedence of operations.\u001b[39;00m\n\u001b[0;32m      7\u001b[0m \u001b[38;5;66;03m# even if we define (\"mango\") as touple and check type of it, then it gives type of it as str rather than touple.\u001b[39;00m\n\u001b[0;32m      8\u001b[0m \u001b[38;5;66;03m# Hence a comma is expected after first element in order to define a single element topule.\u001b[39;00m\n\u001b[0;32m     10\u001b[0m new_fruits \u001b[38;5;241m=\u001b[39m fruits \u001b[38;5;241m+\u001b[39m (\u001b[38;5;124m\"\u001b[39m\u001b[38;5;124mmango\u001b[39m\u001b[38;5;124m\"\u001b[39m,)\n",
      "\u001b[1;31mTypeError\u001b[0m: can only concatenate tuple (not \"str\") to tuple"
     ]
    }
   ],
   "source": [
    "fruits = (\"apple\", \"banana\", \"cherry\")\n",
    "# Touple concatenation\n",
    "new_fruits = fruits + (\"mango\")\n",
    "\n",
    "# above statement will result in error as if we want to create a single element touple then we will have to fool python interpreter with a comma after element.\n",
    "# in absence of comma if we run code, then interpreter simply considers brackets as given to define precedence of operations.\n",
    "# even if we define (\"mango\") as touple and check type of it, then it gives type of it as str rather than touple.\n",
    "# Hence a comma is expected after first element in order to define a single element topule.\n"
   ]
  },
  {
   "cell_type": "code",
   "execution_count": 64,
   "metadata": {},
   "outputs": [
    {
     "name": "stdout",
     "output_type": "stream",
     "text": [
      "('apple', 'banana', 'cherry', 'mango')\n"
     ]
    }
   ],
   "source": [
    "new_fruits = fruits + (\"mango\",)\n",
    "print(new_fruits)"
   ]
  },
  {
   "cell_type": "code",
   "execution_count": 35,
   "metadata": {},
   "outputs": [
    {
     "name": "stdout",
     "output_type": "stream",
     "text": [
      "apple\n",
      "('banana', 'cherry')\n",
      "cherry\n",
      "3\n"
     ]
    },
    {
     "ename": "TypeError",
     "evalue": "'tuple' object does not support item assignment",
     "output_type": "error",
     "traceback": [
      "\u001b[1;31m---------------------------------------------------------------------------\u001b[0m",
      "\u001b[1;31mTypeError\u001b[0m                                 Traceback (most recent call last)",
      "Cell \u001b[1;32mIn[35], line 14\u001b[0m\n\u001b[0;32m     11\u001b[0m \u001b[38;5;28mprint\u001b[39m(\u001b[38;5;28mlen\u001b[39m(fruits))\n\u001b[0;32m     12\u001b[0m \u001b[38;5;66;03m# Add orange to the end of the touple\u001b[39;00m\n\u001b[0;32m     13\u001b[0m \u001b[38;5;66;03m#fruits.append(\"orange\")\u001b[39;00m\n\u001b[1;32m---> 14\u001b[0m \u001b[43mfruits\u001b[49m\u001b[43m[\u001b[49m\u001b[38;5;241;43m1\u001b[39;49m\u001b[43m]\u001b[49m\u001b[38;5;241m=\u001b[39m\u001b[38;5;124m\"\u001b[39m\u001b[38;5;124morange\u001b[39m\u001b[38;5;124m\"\u001b[39m\n",
      "\u001b[1;31mTypeError\u001b[0m: 'tuple' object does not support item assignment"
     ]
    }
   ],
   "source": [
    "# Find data type of below touple\n",
    "fruits=(\"apple\",\"banana\",\"cherry\")\n",
    "\n",
    "# Print first element of touple.\n",
    "print(fruits[0])\n",
    "# Print elements from banana till the end of touple\n",
    "print(fruits[1:])\n",
    "# Print last element of touple\n",
    "print(fruits[-1])\n",
    "# Print length of touple\n",
    "print(len(fruits))\n",
    "# Add orange to the end of the touple\n",
    "#fruits.append(\"orange\")\n",
    "fruits[1]=\"orange\""
   ]
  },
  {
   "cell_type": "markdown",
   "metadata": {},
   "source": [
    "# Dictionaries Datatype\n",
    "\n",
    "Dictionaries are another fundamental data structure in Python used to store collections of items. Unlike lists, which use an ordered index to access elements, dictionaries use key-value pairs for data storage.\n",
    "\n",
    "**Structure:**\n",
    "\n",
    "1. Dictionaries are enclosed in curly braces {}.\n",
    "2. Each item consists of a key and a corresponding value, separated by a colon.\n",
    "3. Keys must be immutable (e.g., strings, numbers, tuples) and **unique within the dictionary.**\n",
    "4. Values can be of any data type, including lists, dictionaries, etc.\n",
    "\n",
    "        person = {\"name\": \"John\", \"age\": 30, \"city\": \"New York\"}\n",
    "        fruit_prices = {\"apple\": 1.5, \"banana\": 0.75, \"orange\": 2.0}\n",
    "\n",
    "**Accessing elements:**\n",
    "\n",
    "- Use the key to access its associated value.\n",
    "- If the key doesn't exist, you'll get a KeyError.\n",
    "\n",
    "        print(person[\"name\"])  # Output: John\n",
    "        # print(person[\"job\"])  # Raises KeyError if \"job\" is not present\n",
    "\n",
    "**Operations:**\n",
    "\n",
    "1. You can add, remove, and update key-value pairs.\n",
    "2. Iterate over keys, values, or both key-value pairs.\n",
    "3. Check if a key exists, get all keys or values as lists, etc.\n",
    "\n",
    "        person[\"job\"] = \"Software Engineer\"  # Adding a new key-value pair\n",
    "        del person[\"age\"]  # Removing a key-value pair\n",
    "        person[\"city\"] = \"Los Angeles\"  # Updating an existing value\n",
    "\n",
    "        for key in person:\n",
    "            print(key, person[key])  # Iterating over keys and values\n",
    "\n",
    "        cities = list(person.values())  # Getting all values as a list\n",
    "\n",
    "**Common uses:**\n",
    "\n",
    "1. Storing user profiles, configurations, settings.\n",
    "2. Representing real-world entities like books, products, etc.\n",
    "3. Implementing phonebooks, address books, or similar lookup tables.\n"
   ]
  },
  {
   "cell_type": "code",
   "execution_count": 37,
   "metadata": {},
   "outputs": [
    {
     "name": "stdout",
     "output_type": "stream",
     "text": [
      "{'name': 'shiv', 'location': 'mumbai', 'gender': 'male'}\n"
     ]
    }
   ],
   "source": [
    "# Create a dictionary with name, locaiton and gender and see its type\n",
    "d={\n",
    "    \"name\":\"shiv\"\n",
    "    ,\"location\":\"mumbai\"\n",
    "    ,\"gender\":\"male\"\n",
    "}\n",
    "\n",
    "print(d)"
   ]
  },
  {
   "cell_type": "code",
   "execution_count": 38,
   "metadata": {},
   "outputs": [
    {
     "name": "stdout",
     "output_type": "stream",
     "text": [
      "{'name': 'shiv'}\n"
     ]
    }
   ],
   "source": [
    "# keys should be unique\n",
    "b={'name':'lokesh','name':'raj',\"name\":\"shiv\"}\n",
    "print(b) # If we repeat a key it takes value assigned in the last"
   ]
  },
  {
   "cell_type": "code",
   "execution_count": 40,
   "metadata": {},
   "outputs": [
    {
     "data": {
      "text/plain": [
       "{'name': 'lokesh', 'name2': 'lokesh'}"
      ]
     },
     "execution_count": 40,
     "metadata": {},
     "output_type": "execute_result"
    }
   ],
   "source": [
    "# values can be repeated\n",
    "c={'name':'lokesh','name2':'lokesh'}\n",
    "c"
   ]
  },
  {
   "cell_type": "code",
   "execution_count": 41,
   "metadata": {},
   "outputs": [
    {
     "name": "stdout",
     "output_type": "stream",
     "text": [
      "{'name': ['lokesh', 'raj', 'ria'], 'gender': ['m', 'm', 'f']}\n"
     ]
    }
   ],
   "source": [
    "# there can be multiple values for each key\n",
    "d={'name':['lokesh','raj','ria'],'gender':['m','m','f']}\n",
    "print(d)"
   ]
  },
  {
   "cell_type": "code",
   "execution_count": 45,
   "metadata": {},
   "outputs": [
    {
     "name": "stdout",
     "output_type": "stream",
     "text": [
      "['lokesh', 'raj', 'ria']\n",
      "['m', 'm', 'f']\n",
      "raj\n",
      "m\n"
     ]
    }
   ],
   "source": [
    "# Individual values of dictionary can accessed as below\n",
    "# Print name and gender of second person from dictionary\n",
    "print(d[\"name\"])\n",
    "print(d[\"gender\"])\n",
    "\n",
    "print(d[\"name\"][1])\n",
    "print(d[\"gender\"][1])"
   ]
  },
  {
   "cell_type": "code",
   "execution_count": 49,
   "metadata": {},
   "outputs": [
    {
     "name": "stdout",
     "output_type": "stream",
     "text": [
      "['red', 'yellow', 'brown', 'yellow', 'green']\n",
      "['apple', 'banana', 'cherry', 'mango', 'grapes']\n"
     ]
    }
   ],
   "source": [
    "# create a dictionary of 5 fruits having their name and colour.\n",
    "\n",
    "fruits={\"name\":[\"apple\", \"banana\",\"cherry\",\"mango\",\"grapes\"], \"color\":[\"red\",\"yellow\",\"brown\",\"yellow\",\"green\"]}\n",
    "\n",
    "# printing the entire dict\n",
    "fruits\n",
    "\n",
    "# printing the type of dict\n",
    "type(fruits)\n",
    "\n",
    "# show the colour of all fruits\n",
    "print(fruits[\"color\"])\n",
    "\n",
    "# show the names of all fruits\n",
    "print(fruits[\"name\"])\n"
   ]
  },
  {
   "cell_type": "code",
   "execution_count": null,
   "metadata": {},
   "outputs": [],
   "source": [
    "# create a dictionary of 5 friends having their name,age and gender\n",
    "\n",
    "friends={\"name\":[\"shiv\",\"inder\",\"sunny\",\"amit\",\"anita\"]\n",
    "         ,\"age\":[40,39,39,38,32]\n",
    "         ,\"gender\":[\"male\",\"male\",\"male\",\"male\",\"female\"]}\n",
    "\n",
    "#print the content of dict\n",
    "print(friends)"
   ]
  },
  {
   "cell_type": "markdown",
   "metadata": {},
   "source": [
    "# To see all keys and values seperately from dict use:\n",
    "    \n",
    "    dict_name.keys()\n",
    "    dict_name.values()"
   ]
  },
  {
   "cell_type": "code",
   "execution_count": null,
   "metadata": {},
   "outputs": [],
   "source": [
    "# Print all keys from friends\n",
    "\n",
    "# Print all values from friends\n"
   ]
  },
  {
   "cell_type": "code",
   "execution_count": 55,
   "metadata": {},
   "outputs": [
    {
     "name": "stdout",
     "output_type": "stream",
     "text": [
      "{'name': 'shiv', 'gender': 'M'}\n"
     ]
    },
    {
     "data": {
      "text/plain": [
       "{'name': 'shiv', 'gender': 'M', 'location': 'vashi'}"
      ]
     },
     "execution_count": 55,
     "metadata": {},
     "output_type": "execute_result"
    }
   ],
   "source": [
    "# create a dictionary with name and gender, later add location to it.\n",
    "d={\n",
    "    \"name\":\"shiv\"\n",
    "    ,\"gender\":\"M\"\n",
    "}\n",
    "print(d)\n",
    "\n",
    "# adding location to already existing dictionary\n",
    "#print(d[\"location\"])\n",
    "d[\"location\"]=\"seepz\"\n",
    "d\n",
    "# Updating content of dictionary: location=vashi\n",
    "d[\"location\"]=\"vashi\"\n",
    "d"
   ]
  },
  {
   "cell_type": "code",
   "execution_count": null,
   "metadata": {},
   "outputs": [],
   "source": [
    "# create a dictionary with your name,father_name,mother_name and location\n",
    "# add pincode to the dictionary\n",
    "# change your location to vashi/belapur\n",
    "# remove >> del dict_name['key_name']"
   ]
  }
 ],
 "metadata": {
  "kernelspec": {
   "display_name": "Python 3",
   "language": "python",
   "name": "python3"
  },
  "language_info": {
   "codemirror_mode": {
    "name": "ipython",
    "version": 3
   },
   "file_extension": ".py",
   "mimetype": "text/x-python",
   "name": "python",
   "nbconvert_exporter": "python",
   "pygments_lexer": "ipython3",
   "version": "3.11.0"
  }
 },
 "nbformat": 4,
 "nbformat_minor": 2
}
