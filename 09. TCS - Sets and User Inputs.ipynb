{
 "cells": [
  {
   "cell_type": "markdown",
   "metadata": {},
   "source": [
    "# Sets in Python\n",
    "\n",
    "Sets in Python are an unordered collection of unique elements. They are useful for representing collections where order doesn't matter and duplicate elements should be avoided."
   ]
  },
  {
   "cell_type": "code",
   "execution_count": 26,
   "metadata": {},
   "outputs": [
    {
     "name": "stdout",
     "output_type": "stream",
     "text": [
      "{'apple', 'banana', 'cherry'}\n",
      "<class 'set'>\n",
      "{1, 2, 3}\n",
      "<class 'set'>\n"
     ]
    }
   ],
   "source": [
    "#Creating Sets:\n",
    "\n",
    "# Using curly braces {}:\n",
    "fruits = {\"apple\", \"banana\", \"cherry\"}\n",
    "print(fruits)\n",
    "print(type(fruits))\n",
    "\n",
    "# Using the set() constructor:\n",
    "l=[1, 2, 2, 3]\n",
    "numbers = set(l)  # Removes duplicates using set()\n",
    "print(numbers)\n",
    "print(type(numbers))"
   ]
  },
  {
   "cell_type": "code",
   "execution_count": 27,
   "metadata": {},
   "outputs": [
    {
     "name": "stdout",
     "output_type": "stream",
     "text": [
      "{1, 2, 3}\n",
      "<class 'set'>\n"
     ]
    }
   ],
   "source": [
    "# Using the set() constructor:\n",
    "l=[1, 2, 2, 3]\n",
    "numbers = set(l)  # Removes duplicates using set()\n",
    "print(numbers)\n",
    "print(type(numbers))"
   ]
  },
  {
   "cell_type": "markdown",
   "metadata": {},
   "source": [
    "**Key Characteristics:**\n",
    "\n",
    "1. **Unordered:** Elements are not stored in a specific order, and iteration order may vary.\n",
    "2. **Unique:** Duplicate elements are not allowed.\n",
    "3. **Mutable:** Sets can be modified after creation using methods like add, remove, and discard.\n",
    "\n",
    "**Common Operations:**\n",
    "\n",
    "1. **Membership:** in and not in operators to check if an element is present.\n",
    "2. **Adding elements:** add(element) to add a new element.\n",
    "3. **Removing elements:** remove(element) (raises an error if not found), discard(element) (doesn't raise an error if not found).\n",
    "4. **Set operations:** Union (|), Intersection (&), Difference (-)."
   ]
  },
  {
   "cell_type": "markdown",
   "metadata": {},
   "source": [
    "**When to Use Sets:**\n",
    "\n",
    "1. Representing unique items like user IDs, product codes, etc.\n",
    "2. Checking for membership efficiently.\n",
    "3. Performing set operations like union, intersection, and difference.\n",
    "4. Avoiding duplicates in collections.\n",
    "5. Remember: Sets are powerful for specific use cases, but they don't maintain order and don't allow duplicate elements. Consider other data structures like lists or dictionaries when order or the ability to have duplicates is necessary."
   ]
  },
  {
   "cell_type": "code",
   "execution_count": null,
   "metadata": {},
   "outputs": [],
   "source": [
    "# create a set with values 12,34.45,'data',98\n",
    "# Print its content and type"
   ]
  },
  {
   "cell_type": "code",
   "execution_count": 25,
   "metadata": {},
   "outputs": [
    {
     "name": "stdout",
     "output_type": "stream",
     "text": [
      "{8, 1, 4, 23}\n",
      "{34, 21, 23, 56, 12, 45}\n",
      "False\n"
     ]
    }
   ],
   "source": [
    "# Sets take unique values\n",
    "s={1,1,1,8,23,4,4}\n",
    "print(s)\n",
    "\n",
    "# unordered and immutable, prints content in random order\n",
    "e={12,23,34,45,56,21} \n",
    "print(e)\n",
    "\n",
    "# Any specific element cannot be accessed from set as order of all elements in not fixed.\n",
    "#print(e[0]) # will result in error\n",
    "\n",
    "# Mostly elements membership is checked in set\n",
    "print(45 not in e)\n"
   ]
  },
  {
   "cell_type": "code",
   "execution_count": null,
   "metadata": {},
   "outputs": [],
   "source": [
    "# Union >> a.union(b) or a|b\n",
    "a={1,2,3,4,5,6}\n",
    "b={5,6,7,8,9}\n"
   ]
  },
  {
   "cell_type": "code",
   "execution_count": null,
   "metadata": {},
   "outputs": [],
   "source": [
    "# Intersection >> a.intersection(b) or a&b\n"
   ]
  },
  {
   "cell_type": "code",
   "execution_count": null,
   "metadata": {},
   "outputs": [],
   "source": [
    "# Difference\n",
    "\n",
    "# print a-b and b-a"
   ]
  },
  {
   "cell_type": "code",
   "execution_count": null,
   "metadata": {},
   "outputs": [],
   "source": [
    "# add 100 as member to set, set_name.add(element)\n",
    "\n",
    "s={12,23,34,45,56}\n",
    "\n",
    "# remove 34 from set, set_name.remove(element)\n",
    "\n",
    "# update a list/touple/set to set. set_name.update(list) - 70,80,90"
   ]
  },
  {
   "cell_type": "code",
   "execution_count": null,
   "metadata": {},
   "outputs": [],
   "source": [
    "# Remove duplicate entries from a given list\n",
    "s=[12,23,34,43,23,34,56]\n"
   ]
  },
  {
   "cell_type": "code",
   "execution_count": null,
   "metadata": {},
   "outputs": [],
   "source": [
    "# Define two sets of friends as a_frnds and b_frnds\n",
    "\n",
    "a_frnds={'ayush','binod','john','ria','pinky'}\n",
    "b_frnds={'rani','ria','ganesh','ayush','preeti'}\n",
    "\n",
    "# show the names of all friends of a and b. >> union\n",
    "# show the names of common friends of both. >> intersection\n",
    "# show the names of friends of a which are not the friends of b. a-b\n",
    "# show the names of friends of b which are not the friends of a. b-a\n",
    "\n",
    "# add 'sachin' to a_frnd\n",
    "\n",
    "# add 'jigar' to b_frnd\n",
    "\n",
    "# add 'sachin' and 'priya' to b_frnd >> b_frnd.update(['sachin','priya'])\n",
    "\n",
    "# add jigar and anu to a_frnd\n",
    "\n",
    "# remove john from a_frnd\n",
    "\n",
    "# remove rani from b_frnd\n",
    "\n",
    "# show the common frnds of both\n"
   ]
  },
  {
   "cell_type": "markdown",
   "metadata": {},
   "source": [
    "# User input in python\n",
    "User input in Python allows your programs to interact with users and get information from them during execution. It's a fundamental concept for creating dynamic and responsive applications.\n",
    "\n",
    "__The input() function__:\n",
    "\n",
    "This built-in function pauses your program's execution and waits for the user to type something.\n",
    "You can optionally provide a message (prompt) that will be displayed on the screen before waiting for input. This message guides the user on what kind of input is expected.\n",
    "\n",
    "__Syntax__:\n",
    "\n",
    "user_input = input(\"Enter your name: \")\n",
    "\n",
    "__What input() returns__:\n",
    "\n",
    "The input() function always returns the user's input as a string, even if the user enters numbers. This is because Python treats all input from the keyboard as text."
   ]
  },
  {
   "cell_type": "code",
   "execution_count": null,
   "metadata": {},
   "outputs": [],
   "source": [
    "# Take name and age of user as input and print below statement\n",
    "# Hello user_name! you are xyz years old."
   ]
  },
  {
   "cell_type": "code",
   "execution_count": null,
   "metadata": {},
   "outputs": [],
   "source": [
    "# take 2 numbers and add them.\n",
    "# Print result as Addition of x and y is x+y"
   ]
  }
 ],
 "metadata": {
  "kernelspec": {
   "display_name": "Python 3 (ipykernel)",
   "language": "python",
   "name": "python3"
  },
  "language_info": {
   "codemirror_mode": {
    "name": "ipython",
    "version": 3
   },
   "file_extension": ".py",
   "mimetype": "text/x-python",
   "name": "python",
   "nbconvert_exporter": "python",
   "pygments_lexer": "ipython3",
   "version": "3.11.0"
  }
 },
 "nbformat": 4,
 "nbformat_minor": 4
}
