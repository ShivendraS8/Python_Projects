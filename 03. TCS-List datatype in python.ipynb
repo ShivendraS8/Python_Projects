{
 "cells": [
  {
   "cell_type": "markdown",
   "id": "66ac688c-17e9-4fbd-9bab-31ad9467442b",
   "metadata": {},
   "source": [
    "# List Datatype in Python\n",
    "\n",
    "Lists are fundamental data structures in Python used to store collections of items in an ordered and changeable way. They are versatile and can hold elements of various data types (integers, strings, floats, booleans, or even other lists) within the same list.  \n",
    "Lists are defined using square brackets [ ], and the items within a list can be of different data type\n",
    "\n",
    "Here are some key characteristics and features of lists in Python:  \n",
    "\n",
    "\n",
    "1. __Mutable__: Lists are mutable, meaning that you can modify their elements after they have been created. You can change, add, or remove elements from a list as needed. \n",
    "\n",
    "2. __Ordered__: Lists maintain the order of elements as they are inserted. This means that the position of each element in the list is fixed and preserved. \n",
    "\n",
    "3. __Indexing and Slicing__: Elements in a list can be accessed using indexing and slicing. Indexing starts from 0 for the first element and continues sequentially. Slicing allows you to extract a subset of elements from a list by specifying a range of indices. \n",
    "\n",
    "4. __Dynamic Size__: Lists in Python can dynamically grow or shrink in size as elements are added or removed. There is no need to specify the size of a list when it is created. \n",
    "\n",
    "5. __Mixed Data Types__: Lists can contain elements of different data types. This flexibility allows you to store heterogeneous data in a single list. \n",
    "\n",
    "6. __Iterable__: Lists are iterable, meaning that you can iterate over their elements using loops or list comprehension. "
   ]
  },
  {
   "cell_type": "markdown",
   "id": "1805b9d7-a2f7-4519-b602-85f1f401864b",
   "metadata": {},
   "source": [
    "### Creating a list"
   ]
  },
  {
   "cell_type": "code",
   "execution_count": 6,
   "id": "43953bfc-0711-4904-9ea1-35999e8c6ab5",
   "metadata": {},
   "outputs": [
    {
     "name": "stdout",
     "output_type": "stream",
     "text": [
      "Elements of my_list are: [1, 2, 3, 4, 5]\n",
      "My Friends are:  ['shiv', 'amit', 'inder', 'sunny', 'anita', 'himani']\n"
     ]
    }
   ],
   "source": [
    "#Define a list of numbers, print its elements and print data type of that list\n",
    "\n",
    "my_list=[1,2,3,4,5]# Definition of list\n",
    "print(\"Elements of my_list are:\", my_list)\n",
    "\n",
    "#Define a list of your friends, print its elements and print data type of that list\n",
    "friends=[\"shiv\",\"amit\",\"inder\",\"sunny\",\"anita\",\"himani\"]\n",
    "print(\"My Friends are: \",friends)"
   ]
  },
  {
   "cell_type": "markdown",
   "id": "e530fbcf-9faf-444d-8bf5-93e2d4029c44",
   "metadata": {},
   "source": [
    "### Traversing a list\n",
    "    1. Elements of the list are accessed using zero based indexing \n",
    "    2. To extract nth item, use (n-1)th index while accessing \n",
    "    3. Slicing a list gives us another list, instead of a single element \n",
    "    4. A slice specifies a start index and an end index, and creates and returns a new list based on the indices \n",
    "    5. The indices are separated by a colon ':'\n",
    "    Keep in mind that the sub-list returned contains only the elements till (end index - 1)"
   ]
  },
  {
   "cell_type": "code",
   "execution_count": 12,
   "id": "68efee3c-2430-4330-b96f-2555c8b3d528",
   "metadata": {},
   "outputs": [
    {
     "name": "stdout",
     "output_type": "stream",
     "text": [
      "23\n",
      "[23, 34]\n",
      "12\n",
      "[45, 56, 67]\n",
      "[12, 23, 34, 45]\n",
      "[12, 23, 34]\n",
      "[23, 34, 45, 56, 67]\n"
     ]
    }
   ],
   "source": [
    "#Indexing\n",
    "d=[12,23,34,45,56,67]\n",
    "#extract 23 from list\n",
    "print(d[1])\n",
    "\n",
    "#extract 23,34 from list\n",
    "print(d[1:3])\n",
    "\n",
    "#extract 12 from list\n",
    "print(d[0])\n",
    "\n",
    "#extract 45,56 and 67 from list\n",
    "print(d[3:])\n",
    "\n",
    "#extract first 4 elements from list\n",
    "print(d[:4])\n",
    "\n",
    "#extract first 3 elements from list\n",
    "print(d[:3])\n",
    "\n",
    "#extract elements from 23 to end\n",
    "print(d[1:])"
   ]
  },
  {
   "cell_type": "code",
   "execution_count": 16,
   "id": "666c603c-b15c-41c2-aaec-10782b1b8d28",
   "metadata": {},
   "outputs": [
    {
     "name": "stdout",
     "output_type": "stream",
     "text": [
      "\n",
      "Fourth friend from list is: Sunny\n",
      "\n",
      "Name of friend at 3rd place from list is: Inder\n",
      "\n",
      "First 3 friends from list is: ['Shiv', 'Amit', 'Inder']\n",
      "\n",
      "Last 2 friends from list is: ['Himani', 'Anita']\n"
     ]
    }
   ],
   "source": [
    "# create a list of 6 friends\n",
    "\n",
    "friends_list=[\"Shiv\",\"Amit\",\"Inder\",\"Sunny\",\"Himani\",\"Anita\"]\n",
    "\n",
    "# extract the name of 4th friend\n",
    "print(f\"\\nFourth friend from list is: {friends_list[3]}\")\n",
    "\n",
    "# extract the name present at 3rd position\n",
    "print(f\"\\nName of friend at 3rd place from list is: {friends_list[2]}\")\n",
    "\n",
    "# extract first 3 names\n",
    "print(f\"\\nFirst 3 friends from list is: {friends_list[:3]}\")\n",
    "\n",
    "# extract last 2 names\n",
    "print(f\"\\nLast 2 friends from list is: {friends_list[4:]}\")"
   ]
  },
  {
   "cell_type": "code",
   "execution_count": 19,
   "id": "5c85fde9-3f54-4231-ae17-8db02bdfbd93",
   "metadata": {},
   "outputs": [
    {
     "name": "stdout",
     "output_type": "stream",
     "text": [
      "\n",
      "Numbers from 15 to 19 from list are: [15, 16, 17, 18, 19]\n",
      "[13, 14, 15, 16, 17]\n",
      "20\n",
      "[13, 14, 15, 16, 17]\n"
     ]
    }
   ],
   "source": [
    "# create a list of numbers from 13 to 20\n",
    "num_list = [13, 14, 15, 16, 17, 18, 19, 20]\n",
    "\n",
    "# extract numbers from 15 to 19\n",
    "print(f\"\\nNumbers from 15 to 19 from list are: {num_list[2:7]}\")\n",
    "\n",
    "# extract first 5 members of list\n",
    "print(num_list[:5])\n",
    "\n",
    "# extract last element\n",
    "print(num_list[7])\n",
    "\n",
    "# extract numbers from 13 to 17\n",
    "print(num_list[:5])\n"
   ]
  },
  {
   "cell_type": "markdown",
   "id": "9369221e-6215-420f-abc7-6deb3e8a6e50",
   "metadata": {},
   "source": [
    "# Negative Indexing in Python\n",
    "\n",
    "It is a way to access elements of a list or string by counting from the end of the sequence, rather than from the beginning.\n",
    "- The first element of a list or string has an index of 0, the second element has an index of 1, and so on.\n",
    "- The last element of a list or string has an index of -1, the second-to-last element has an index of -2, and so on.\n",
    "\n",
    "For example, if you have a list [1, 2, 3, 4, 5], you can access the last element of the list using the index -1. You can also access the second-to-last element of the list using the index -2.\n",
    "\n",
    "Negative indexing can be useful for accessing elements from the end of a list or string without having to know the exact length of the list or string. For example, if you have a list of students in a class, you can use negative indexing to access the last student in the list without having to know how many students are in the class."
   ]
  },
  {
   "cell_type": "code",
   "execution_count": 20,
   "id": "d96f2bdb-d159-4f32-8f31-ad86db077996",
   "metadata": {},
   "outputs": [
    {
     "name": "stdout",
     "output_type": "stream",
     "text": [
      "Third last element from list is: 18\n",
      "Third last element from list is: 19\n"
     ]
    }
   ],
   "source": [
    "# Examples of Negative Index in Python\n",
    "\n",
    "# create a list of numbers from 13 to 20\n",
    "num_list = [13, 14, 15, 16, 17, 18, 19, 20]\n",
    "\n",
    "# extract third last element from list\n",
    "print(f\"Third last element from list is: {num_list[-3]}\")\n",
    "\n",
    "# extract second last element from list\n",
    "print(f\"Third last element from list is: {num_list[-2]}\")\n"
   ]
  },
  {
   "cell_type": "markdown",
   "id": "f7f7036b-9c1c-4dde-80df-ac3727719d5d",
   "metadata": {},
   "source": [
    "## Step Size in python\n",
    "\n",
    "Step Size specifies which element to pick while indexing.\n",
    "- Step size of 1 tells python to pick every element\n",
    "- Step size of 2 means pick alternate elements, and so on.\n",
    "\n",
    "The step size is specified after the end-index, preceded by a colon. i.e\n",
    "\n",
    "    my_list[start_index:end_index:step_size]"
   ]
  },
  {
   "cell_type": "code",
   "execution_count": 25,
   "id": "543ef5f0-6c4e-4d58-b446-fbffda789588",
   "metadata": {},
   "outputs": [
    {
     "name": "stdout",
     "output_type": "stream",
     "text": [
      "Here is the output of 23 and 45 extracted from list: [23, 45]\n",
      "[12, 34, 56]\n",
      "[23, 45]\n"
     ]
    }
   ],
   "source": [
    "## Example on using Step Size in slicing\n",
    "\n",
    "my_list=[12,23,34,45,56]\n",
    "my_list\n",
    "\n",
    "#extract 23 and 45 from list\n",
    "print(f\"Here is the output of 23 and 45 extracted from list: {my_list[1::2]}\")\n",
    "\n",
    "#extract elements at even places from list\n",
    "print(my_list[::2])\n",
    "\n",
    "#extract elements at odd places from list\n",
    "print(my_list[1::2])\n",
    "\n"
   ]
  },
  {
   "cell_type": "code",
   "execution_count": 30,
   "id": "3e3db4e2-9b30-40c9-bbf7-6aa065f2fa21",
   "metadata": {},
   "outputs": [
    {
     "name": "stdout",
     "output_type": "stream",
     "text": [
      "Multiples of 2 from list are: [2, 4, 6, 8, 10]\n",
      "All odd numbers from list are: [1, 3, 5, 7, 9]\n",
      "Multiples of 3 from list are: [3, 6, 9]\n",
      "Multiples of 4 from list are: [4, 8]\n",
      "Multiples of 5 from list are: [5, 10]\n"
     ]
    }
   ],
   "source": [
    "my_list=[1,2,3,4,5,6,7,8,9,10]\n",
    "\n",
    "#extract multiple of 2\n",
    "print(f\"Multiples of 2 from list are: {my_list[1::2]}\")\n",
    "\n",
    "#extract all odd numbers from list\n",
    "print(f\"All odd numbers from list are: {my_list[::2]}\")\n",
    "\n",
    "#extract the multiples of 3\n",
    "print(f\"Multiples of 3 from list are: {my_list[2::3]}\")\n",
    "\n",
    "#extract the multiples of 4\n",
    "print(f\"Multiples of 4 from list are: {my_list[3::4]}\")\n",
    "\n",
    "#extract the multiples of 5\n",
    "print(f\"Multiples of 5 from list are: {my_list[4::5]}\")\n"
   ]
  }
 ],
 "metadata": {
  "kernelspec": {
   "display_name": "Python 3 (ipykernel)",
   "language": "python",
   "name": "python3"
  },
  "language_info": {
   "codemirror_mode": {
    "name": "ipython",
    "version": 3
   },
   "file_extension": ".py",
   "mimetype": "text/x-python",
   "name": "python",
   "nbconvert_exporter": "python",
   "pygments_lexer": "ipython3",
   "version": "3.11.0"
  }
 },
 "nbformat": 4,
 "nbformat_minor": 5
}
