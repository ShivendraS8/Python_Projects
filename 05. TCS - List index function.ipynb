{
 "cells": [
  {
   "cell_type": "markdown",
   "metadata": {},
   "source": [
    "# Index() function in python\n",
    "\n",
    "The index function is a built-in method in Python used with lists to locate the index of the first occurance of a specified element within the list.\n",
    "\n",
    "__Functionality__:\n",
    "- The index(element) method searches for the element you provide as an argument within the list.\n",
    "- if the element is found in the list, the function returns the zero-based index(position) of its occurance.\n",
    "- if the element is not present in the list, a ValueError exception is raised.\n",
    "\n",
    "__Syntax__:\n",
    "        \n",
    "        list_name.index(element)\n",
    "\n",
    "__Arguments__:\n",
    "- **list_name**: This represents the list in which we want to search the element\n",
    "- **element**: This is the value to be searched\n",
    "\n",
    "__Important Points__: \n",
    "- _*The index function only returns the index of the first occourance of the element. if the element appears multiple times, it will only return the index of the first occourance of element_*.\n",
    "- if the element is not present in the list, a ValueError exception is raised.\n",
    "\n",
    "__Additional Considerations__:\n",
    "- We can optionally specify a starting and ending index for the search using below syntax. This allows us to search the element within a sublist.\n",
    "\n",
    "                list_name.index(element,start,end)"
   ]
  },
  {
   "cell_type": "code",
   "execution_count": 4,
   "metadata": {},
   "outputs": [
    {
     "name": "stdout",
     "output_type": "stream",
     "text": [
      "[11, 12, 13, 14, 15, 16, 17, 18, 19, 20]\n",
      "Index of 16:  5\n",
      "Index of 15:  4\n",
      "Index of 16:  8\n"
     ]
    }
   ],
   "source": [
    "w=list(range(11, 21))\n",
    "print(w)\n",
    "\n",
    "\"\"\"\n",
    "1. Find index of 16\n",
    "2. Find index of 15\n",
    "3. Find index of 19\n",
    "\"\"\"\n",
    "print(\"Index of 16: \",w.index(16))\n",
    "print(\"Index of 15: \",w.index(15))\n",
    "print(\"Index of 16: \",w.index(19))"
   ]
  },
  {
   "cell_type": "code",
   "execution_count": 6,
   "metadata": {},
   "outputs": [
    {
     "name": "stdout",
     "output_type": "stream",
     "text": [
      "Index of o:  4\n",
      "Index of t:  2\n"
     ]
    }
   ],
   "source": [
    "s='python'\n",
    "\"\"\"\n",
    "1. Find index of o\n",
    "2. Find index of t\n",
    "\"\"\"\n",
    "print(\"Index of o: \",s.index(\"o\"))\n",
    "print(\"Index of t: \",s.index(\"t\"))"
   ]
  },
  {
   "cell_type": "code",
   "execution_count": 10,
   "metadata": {},
   "outputs": [
    {
     "name": "stdout",
     "output_type": "stream",
     "text": [
      "Index of first occourance of 2:  1\n",
      "Index of second occourance of 2:  5\n",
      "Index of second occourance of 2:  8\n"
     ]
    }
   ],
   "source": [
    "k=[1,2,3,4,5,2,34,45,2,8,9]\n",
    "\"\"\"\n",
    "1. Find index of first occourance of 2\n",
    "2. Find index of second occourance of 2\n",
    "3. Find index of third occourance of 2\n",
    "\"\"\"\n",
    "print(\"Index of first occourance of 2: \",k.index(2))\n",
    "print(\"Index of second occourance of 2: \",k.index(2,2))\n",
    "print(\"Index of second occourance of 2: \",k.index(2,6))"
   ]
  },
  {
   "cell_type": "code",
   "execution_count": 16,
   "metadata": {},
   "outputs": [
    {
     "name": "stdout",
     "output_type": "stream",
     "text": [
      "Index of second occourance of 23:  4\n",
      "Index of second occourance of 34:  6\n",
      "Index of second occourance of 34:  6\n"
     ]
    }
   ],
   "source": [
    "h=[12,23,34,45,23,45,34,12,23]\n",
    "\n",
    "\"\"\"\n",
    "1. Find index of second 23\n",
    "2. Find index of second 34\n",
    "\"\"\"\n",
    "print(\"Index of second occourance of 23: \",h.index(23,2))\n",
    "print(\"Index of second occourance of 34: \",h.index(34,h.index(34)+1))\n",
    "print(\"Index of second occourance of 34: \",h.index(34,3))"
   ]
  },
  {
   "cell_type": "code",
   "execution_count": 22,
   "metadata": {},
   "outputs": [
    {
     "name": "stdout",
     "output_type": "stream",
     "text": [
      "Index of 3rd a :  8\n",
      "Index of 3rd i :  14\n",
      "Index of 3rd i :  18\n"
     ]
    }
   ],
   "source": [
    "d='i am a data scientist'\n",
    "\n",
    "\"\"\"\n",
    "1. what is the index number of 3rd a in a string\n",
    "2. what is the index number of 2nd i\n",
    "3. what is the index nubmber of 3rd i\n",
    "\"\"\"\n",
    "print(\"Index of 3rd a : \",d.index(\"a\",6))\n",
    "print(\"Index of 3rd i : \",d.index(\"i\",1))\n",
    "print(\"Index of 3rd i : \",d.index(\"i\",15))\n",
    "\n",
    "\n"
   ]
  },
  {
   "cell_type": "code",
   "execution_count": null,
   "metadata": {},
   "outputs": [],
   "source": [
    "h=[1,2,3,4,5,6,7,8,9,10]\n",
    "\"\"\"\n",
    "1. Extract [2,6,10]\n",
    "2. Extract [10,6,2]\n",
    "3. Extract [1,5,10]\n",
    "4. Extract [10,5,1]\n",
    "5. Extract 4,5,6,7\n",
    "6. What is the index number of 7\n",
    "\"\"\""
   ]
  },
  {
   "cell_type": "code",
   "execution_count": null,
   "metadata": {},
   "outputs": [],
   "source": [
    "z='madam'\n",
    "\n",
    "\"\"\"\n",
    "1. Extract mm\n",
    "2. Extract aa\n",
    "3. what is the index number of 2nd a\n",
    "4. Extract mad\n",
    "5. Extract dam\n",
    "\"\"\""
   ]
  },
  {
   "cell_type": "code",
   "execution_count": null,
   "metadata": {},
   "outputs": [],
   "source": [
    "# Create a list\n",
    "d=[11,12,13,14,15,16,17,18,19,20]\n",
    "\"\"\"\n",
    "1. Extract multiple of 4 from the list\n",
    "2. Extract odd numbers\n",
    "3. Extract multiple of 3 in reverse order\n",
    "4. Extract numbers from 13 to 18 in reverse order\n",
    "5. Extract 18,16,14\n",
    "\"\"\""
   ]
  },
  {
   "cell_type": "code",
   "execution_count": null,
   "metadata": {},
   "outputs": [],
   "source": [
    "w='karan johar'\n",
    "\"\"\"\n",
    "1. extract ran\n",
    "2. extract rah\n",
    "3. extract nar\n",
    "4. extract \" \"\n",
    "5. extract narak\n",
    "6. extract krn\n",
    "7. what is the index of second a\n",
    "8. how many elements are there in string w\n",
    "9. reverse the string w\n",
    "\"\"\""
   ]
  }
 ],
 "metadata": {
  "kernelspec": {
   "display_name": "base",
   "language": "python",
   "name": "python3"
  },
  "language_info": {
   "codemirror_mode": {
    "name": "ipython",
    "version": 3
   },
   "file_extension": ".py",
   "mimetype": "text/x-python",
   "name": "python",
   "nbconvert_exporter": "python",
   "pygments_lexer": "ipython3",
   "version": "3.11.0"
  }
 },
 "nbformat": 4,
 "nbformat_minor": 2
}
