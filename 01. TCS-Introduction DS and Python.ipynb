{
 "cells": [
  {
   "cell_type": "markdown",
   "id": "e59b6137-2c90-4887-8ecc-c61cc792cb72",
   "metadata": {},
   "source": [
    "# Python and Data Science Introduction"
   ]
  },
  {
   "cell_type": "markdown",
   "id": "acd3ea92-b22c-4618-a621-c8ca8fb8997e",
   "metadata": {},
   "source": [
    "## What is Data Science?\n",
    "Data science is a vast field that combines several disciplines to extract knowledge and insights from data.\n",
    "\n",
    "### What it is:\n",
    "1.\tData science is an interdisciplinary field that uses statistics, computer science, domain knowledge, and scientific methods to extract knowledge and insights from data  \r\n",
    "2.\tThis data can be structured (organized in tables) or unstructured data such as( Text, Images, Video)      ."
   ]
  },
  {
   "cell_type": "markdown",
   "id": "d37998b5-d720-4a13-a348-76bd8971ddcf",
   "metadata": {},
   "source": [
    "### What it does:\n",
    "1. Data scientists use various techniques like data cleaning, __analysis__, modeling, and visualization to uncover patterns, trends, and relationships within data.  \n",
    "2. These insights can be used for various purposes like:  \n",
    "    - **Making predictions:** Data science can be used to predict future trends, customer behavior, or product performance.  \n",
    "    - **Improving decision-making:** Data-driven insights can inform better business decisions across various departments.  \n",
    "    - **Optimizing processes:** Data analysis can help identify inefficiencies and areas for improvement in processes.  \n",
    "    - **Developing new products:** Data science can inform the development of new products or services that meet customer needs.  \n",
    "\n",
    "### Why it's important:  \n",
    "1. In today's world, data is being generated at an unprecedented rate. Data science helps us make sense of this data and unlock its potential value.  \n",
    "2. Businesses of all sizes are increasingly relying on data science to gain a competitive edge.  "
   ]
  },
  {
   "cell_type": "markdown",
   "id": "dca58314-93a9-4c3c-b866-74ef52e0cbca",
   "metadata": {},
   "source": [
    "### What all we will cover  \n",
    " - __Python Basic+Advance__\n",
    " - __PowerBI__\n",
    " - __Tableau__\n",
    " - __SQL__\n",
    " - __AI+ML__\n",
    " - __Advance Excel__\n",
    " - __Deployment on AWS__\n",
    "\n",
    "#### What we need \n",
    " - Python and Jupyter Notebook"
   ]
  },
  {
   "cell_type": "code",
   "execution_count": 2,
   "id": "ed843a93-a189-4889-8752-7905b7f29478",
   "metadata": {},
   "outputs": [],
   "source": [
    "# Addition Program"
   ]
  },
  {
   "cell_type": "markdown",
   "id": "83ae82cf-ae84-4170-94e9-f927cad78d03",
   "metadata": {},
   "source": [
    "# Data Types in Python (Int, float, Str)"
   ]
  },
  {
   "cell_type": "markdown",
   "id": "59d6b634-d0d4-45b1-906f-eef635d9101e",
   "metadata": {},
   "source": [
    "Data types represent the type or category of data that a variable can hold. Here are some common data types in Python:\n",
    "\n",
    " - __Numeric Types:__\n",
    "    - **int:** Integer type represents whole numbers without any decimal point. example: x=5\n",
    "    - **float:** Float type represents numbers with decimal points. example: y=3.14\n",
    "    \n",
    " - __Text Type:__\n",
    "    - **str** (String): Encloses text within single or double quotes. Example: text = \"Hello, Python!\"\n",
    "\n",
    "# Variables in Python\n",
    "* Variables are\n",
    "  * Storage locations that have a name\n",
    "  * Name-Value pairs\n",
    "  * Case Sensitive\n",
    "~~~\n",
    "fruit='apple'  \n",
    "fruit=\"orange\"\n",
    "~~~\n",
    "## Strings\n",
    "  * Represents text\n",
    "  * Surrounded by quotes\n",
    "  * Strings expects to be encapsulated in single quote or double quote\n",
    "  * Python expect matching quotes to consider end of a string\n",
    "  * If we want double quotes to be part of string we can place them inside a string which is quoted in single quotes. Same is true for Single quotes.\n",
    "  * If we want to use single and double quotes both in same string then use escape character (\\) before single/double quote\n",
    "  * Each character in a string is assigned an index which is zero based.\n",
    "\n",
    "Rules for defining variable names in Python:\n",
    "\n",
    "    1. Variable names can contain letters (both uppercase and lowercase), digits, and the underscore _.\n",
    "    2. Variable names must start with a letter (a-z, A-Z) or an underscore (_).\n",
    "    3. Spaces and special characters (such as !, @, #, $, %) are not allowed in variable names.\n",
    "    4. Python is case-sensitive, so myVar and myvar would be considered different variables.\n",
    "    5. Avoid using Python reserved words (keywords) as variable names. Examples of reserved words include if, else, while, for, True, False, None, and others.\n",
    "    6. For variable names with multiple words, use underscores to separate the words (snake_case). This enhances readability. For example: my_variable, user_name.\n",
    "    7. While starting a variable name with an underscore is allowed, it is often reserved for special cases in Python (e.g., _variable in some naming conventions).\n",
    "    8. Choose variable names that are descriptive and convey the purpose of the variable. This enhances code readability."
   ]
  },
  {
   "cell_type": "code",
   "execution_count": 3,
   "id": "8916c053-0db7-4f6e-98d0-8f0025c7cfbe",
   "metadata": {},
   "outputs": [
    {
     "data": {
      "text/plain": [
       "11"
      ]
     },
     "execution_count": 3,
     "metadata": {},
     "output_type": "execute_result"
    }
   ],
   "source": [
    "\n",
    "\"\"\"This is my first program\n",
    "lets learn Python\n",
    "This is a multiline comment\n",
    "\"\"\"\n",
    "(5+6)"
   ]
  },
  {
   "cell_type": "code",
   "execution_count": 2,
   "id": "b4b403a3-6e16-4c62-bfe2-c13be298fe21",
   "metadata": {},
   "outputs": [
    {
     "data": {
      "text/plain": [
       "5.666666666666666"
      ]
     },
     "execution_count": 2,
     "metadata": {},
     "output_type": "execute_result"
    }
   ],
   "source": [
    "5-2+8/3"
   ]
  },
  {
   "cell_type": "code",
   "execution_count": null,
   "id": "d0b4eab8-c579-4d10-9636-06a4fea10552",
   "metadata": {},
   "outputs": [],
   "source": []
  },
  {
   "cell_type": "code",
   "execution_count": null,
   "id": "ba6b9cb8-d37f-423c-8eb8-50d7b2fe34e2",
   "metadata": {},
   "outputs": [],
   "source": []
  }
 ],
 "metadata": {
  "kernelspec": {
   "display_name": "Python 3 (ipykernel)",
   "language": "python",
   "name": "python3"
  },
  "language_info": {
   "codemirror_mode": {
    "name": "ipython",
    "version": 3
   },
   "file_extension": ".py",
   "mimetype": "text/x-python",
   "name": "python",
   "nbconvert_exporter": "python",
   "pygments_lexer": "ipython3",
   "version": "3.11.0"
  }
 },
 "nbformat": 4,
 "nbformat_minor": 5
}
