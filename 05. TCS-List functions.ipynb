{
 "cells": [
  {
   "cell_type": "markdown",
   "id": "031984e7-cd82-41ff-a7ea-ff6b2185ea66",
   "metadata": {},
   "source": [
    "## Index() Function in Python\n",
    "\n",
    "The index() function is a built-in method in Python used with lists to locate the index of the __first__ occurrence of a specified element within the list. \n",
    "\n",
    "__Functionality:__\n",
    " - The index(element) method searches for the element you provide as an argument within the list. \n",
    " - If the element is found in the list, the function returns the zero-based index (position) of its first occurrence. \n",
    " - If the element is not present in the list, a ValueError exception is raised. \n",
    "\n",
    "__Syntax__\n",
    "\n",
    "    list_name.index()\n",
    "\n",
    "__Arguments:__\n",
    "\n",
    " - list_name: This represents the list you want to  search within the list \n",
    " - element: This is the value you're looking for \n",
    "\n",
    "__Important Points:__\n",
    "\n",
    " - The index() function only returns the index of the first occurrence of the element. If the element appears multiple times, it will only return the index of the first one. \n",
    " - If the element is not found in the list, a ValueError is raised\n",
    "\n",
    "__Additional Considerations:__\n",
    "\n",
    "1. You can optionally specify a starting and ending index for the search using the index(element, start, end) syntax. This allows you to search the element within a sublist. This is  less commonly used."
   ]
  },
  {
   "cell_type": "code",
   "execution_count": null,
   "id": "b259c48d-529a-49ca-9e8b-1a79bf3fcd59",
   "metadata": {},
   "outputs": [],
   "source": []
  }
 ],
 "metadata": {
  "kernelspec": {
   "display_name": "Python 3 (ipykernel)",
   "language": "python",
   "name": "python3"
  },
  "language_info": {
   "codemirror_mode": {
    "name": "ipython",
    "version": 3
   },
   "file_extension": ".py",
   "mimetype": "text/x-python",
   "name": "python",
   "nbconvert_exporter": "python",
   "pygments_lexer": "ipython3",
   "version": "3.11.0"
  }
 },
 "nbformat": 4,
 "nbformat_minor": 5
}
