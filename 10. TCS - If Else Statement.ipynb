{
 "cells": [
  {
   "cell_type": "markdown",
   "id": "072848c3-fccc-48a7-abfb-54a3a2563e5b",
   "metadata": {},
   "source": [
    "# If Else statement\n",
    "The if and else statements in Python are used for conditional branching, allowing your code to execute different blocks of code based on whether a certain condition is True or False.\n",
    "\n",
    "**Syntax**\n",
    "~~~\n",
    "    if condition: \n",
    "      #Code to execute if the condition is True \n",
    "    else: \n",
    "      #Code to execute if the condition is False \n",
    "~~~\n",
    "**Explanation**: \n",
    "The if statement checks if the condition  is true. \n",
    "\n",
    "- If the condition is True, the code indented under the if statement is executed. \n",
    "- If the condition is False, the code indented under the else statement (if present) is exeucuted.\n",
    "\n",
    "**Points to remember**: \n",
    "- Indentation is crucial in Python. The code blocks under if, elif, and else are defined by the indentation level. \n",
    "- Always remember to add a colon (:) after the if, elif ,-  and else statements. \n",
    "- The else statement is optional, but it can be useful for handling cases where none of the conditions in if or el if statements are True."
   ]
  },
  {
   "cell_type": "code",
   "execution_count": 9,
   "id": "2446c690-4395-43c2-b94b-42c0bc2f5b02",
   "metadata": {},
   "outputs": [
    {
     "name": "stdout",
     "output_type": "stream",
     "text": [
      "As 23 is greater than 10 so adding 2 to it: 25\n"
     ]
    }
   ],
   "source": [
    "\"\"\"\n",
    "Take a number from user as input and check if it is greater than 10 or not\n",
    "if it is greater than 10 then add 2 to it\n",
    "otherwise double the number\n",
    "\"\"\"\n",
    "a = int(input(\"Enter a number of your choice: \"))\n",
    "\n",
    "if a>10:\n",
    "    print(f\"As {a} is greater than 10 so adding 2 to it: {a+2}\")\n",
    "else:\n",
    "    print(f\"As {a} is less than 10 so adding doubline it: {a*2}\")\n",
    "\n",
    "\n"
   ]
  },
  {
   "cell_type": "code",
   "execution_count": null,
   "id": "8b108a56-a400-4911-aae5-284ab2109e52",
   "metadata": {},
   "outputs": [],
   "source": [
    "\"\"\"\n",
    "1. Take a number from user as input and check if it is greater than or equal to 15\n",
    "if it is greater than or equal to 15 then print square of number\n",
    "otherwise double the number\n",
    "\"\"\"\n"
   ]
  },
  {
   "cell_type": "code",
   "execution_count": null,
   "id": "c129e91f-aa36-4d01-8732-ca3033a190a0",
   "metadata": {},
   "outputs": [],
   "source": [
    "\"\"\"\n",
    "2. Take a number from user as input and check if it is divisible by 5\n",
    "if yes then print divisible by 5\n",
    "otherwise not divisible by 5\n",
    "\"\"\""
   ]
  },
  {
   "cell_type": "code",
   "execution_count": null,
   "id": "88334191-34bf-440e-a040-5d10f04f413f",
   "metadata": {},
   "outputs": [],
   "source": [
    "\"\"\"\n",
    "3. Take a number from user as input and check if it is Even or Odd\n",
    "if Even then print Entered number is even number\n",
    "otherwise  Entered number is odd number\n",
    "\"\"\""
   ]
  },
  {
   "cell_type": "code",
   "execution_count": null,
   "id": "57ba3ff1-bdb8-4732-a43f-695d71de2052",
   "metadata": {},
   "outputs": [],
   "source": [
    "\"\"\"\n",
    "4. Take a year from user as input and check if it is Decade or not\n",
    "if Decade then print Entered year is decade\n",
    "otherwise  Entered year in non decade year\n",
    "\"\"\"\n"
   ]
  },
  {
   "cell_type": "code",
   "execution_count": null,
   "id": "8f9a4bd4-3aa2-407c-a471-4fd06dba4ce9",
   "metadata": {},
   "outputs": [],
   "source": [
    "\"\"\"\n",
    "5. Take a year from user as input and check if it is Leap year or not\n",
    "if it is then print Entered year is Leap Year\n",
    "otherwise  Entered year in non leap year\n",
    "\"\"\""
   ]
  },
  {
   "cell_type": "code",
   "execution_count": null,
   "id": "e21290b1-6b8e-4a3d-9ee3-3301b9101025",
   "metadata": {},
   "outputs": [],
   "source": [
    "\"\"\"\n",
    "6. Take a number from user as input and check if it is greater than or equal to 15 and even number\n",
    "if it is then print number is bigger than 15 and even\n",
    "otherwise print the number\n",
    "\"\"\""
   ]
  },
  {
   "cell_type": "code",
   "execution_count": null,
   "id": "eca916c9-fdd9-4ce5-a9a3-9bacf4a9a2a5",
   "metadata": {},
   "outputs": [],
   "source": [
    "\"\"\"\n",
    "7. Take a number from user as input and check if it is greater than 10 or odd number\n",
    "if it is then print number is greater than 10 or odd\n",
    "otherwise print the number\n",
    "\"\"\""
   ]
  },
  {
   "cell_type": "code",
   "execution_count": null,
   "id": "1eabcd89-4034-4c62-96f6-fd02c45e8213",
   "metadata": {},
   "outputs": [],
   "source": [
    "\"\"\"\n",
    "8. Take a number from user as input and check if it is even and multiple of 3\n",
    "if it is, then print Even and multiple of 3\n",
    "otherwise print the number\n",
    "\"\"\""
   ]
  },
  {
   "cell_type": "code",
   "execution_count": null,
   "id": "15a84a8f-3457-4c23-83b7-60b9e5cfcd27",
   "metadata": {},
   "outputs": [],
   "source": [
    "# 9. Take two number from user and print larger one in output"
   ]
  },
  {
   "cell_type": "code",
   "execution_count": null,
   "id": "597a94da-a4c5-4159-95a8-2baddf0a770f",
   "metadata": {},
   "outputs": [],
   "source": [
    "\"\"\"\n",
    "10. Take a string from user and check if the lenght of word is even or odd\n",
    "if even then print even\n",
    "else print odd\n",
    "\"\"\""
   ]
  },
  {
   "cell_type": "code",
   "execution_count": null,
   "id": "84d046c6-7b11-4b19-9fe6-0ad13cd40559",
   "metadata": {},
   "outputs": [],
   "source": [
    "\"\"\"\n",
    "11. Take a string from user and check if the lenght of word is even or odd\n",
    "if even then print reverse of word\n",
    "else print first 3 letters of word\n",
    "\"\"\""
   ]
  },
  {
   "cell_type": "code",
   "execution_count": null,
   "id": "c8366ba7-830b-433b-9858-4648bb706c61",
   "metadata": {},
   "outputs": [],
   "source": [
    "\"\"\"\n",
    "\n",
    "12. Take a string from user and check if it's lenght is greater than 6 and it is even or not\n",
    "if true then print yes\n",
    "else print no\n",
    "\n",
    "\"\"\""
   ]
  },
  {
   "cell_type": "code",
   "execution_count": null,
   "id": "384a2435-880d-4913-a81f-493fcd8fd4c3",
   "metadata": {},
   "outputs": [],
   "source": [
    "\"\"\"\n",
    "\n",
    "13. Take a string from user and check if entered name is of girl or boy\n",
    "\n",
    "\"\"\""
   ]
  },
  {
   "cell_type": "code",
   "execution_count": null,
   "id": "b4475fed-53e4-4415-9200-7667edc05905",
   "metadata": {},
   "outputs": [],
   "source": [
    "\"\"\"\n",
    "\n",
    "14. Take a string from user and check if entered string is Palindrome or not\n",
    "\n",
    "\"\"\""
   ]
  },
  {
   "cell_type": "code",
   "execution_count": null,
   "id": "2f58f941-c005-4ccd-87f9-abd6cb0184df",
   "metadata": {},
   "outputs": [],
   "source": [
    "\"\"\"\n",
    "\n",
    "15. Take a Name and Surname from user and check if entered name is of Marathi or Non Marathi\n",
    "\n",
    "\"\"\"\n"
   ]
  },
  {
   "cell_type": "code",
   "execution_count": null,
   "id": "f902542c-00b8-444c-a048-5f91688e503b",
   "metadata": {},
   "outputs": [],
   "source": [
    "\"\"\"\n",
    "\n",
    "16. Take a Name and Surname from user and check if entered name is of Punjabi or Non Punjabi\n",
    "\n",
    "\"\"\""
   ]
  },
  {
   "cell_type": "code",
   "execution_count": null,
   "id": "7f76de55-3dde-4da3-b379-9f791a70058d",
   "metadata": {},
   "outputs": [],
   "source": [
    "\"\"\"\n",
    "17. Take temperature input from user and check if it is hot or cold,\n",
    "if greater than 45 then hot\n",
    "else cold\n",
    "\"\"\""
   ]
  },
  {
   "cell_type": "code",
   "execution_count": null,
   "id": "195fb8f7-c212-4c8b-a692-d60993f4c76c",
   "metadata": {},
   "outputs": [],
   "source": [
    "# 18. Take email input and check if it valid email id or not,"
   ]
  },
  {
   "cell_type": "code",
   "execution_count": null,
   "id": "3b2ae03b",
   "metadata": {},
   "outputs": [],
   "source": [
    "\"\"\"\n",
    "19. Take age from user as input and check if it is eligible to vote or not\n",
    "\n",
    "\"\"\""
   ]
  },
  {
   "cell_type": "code",
   "execution_count": null,
   "id": "fe196a6c",
   "metadata": {},
   "outputs": [],
   "source": [
    "\"\"\"\n",
    "20. Take 3 sides of triangle from user as input and check if it is equilateral triangle or not\n",
    "\n",
    "\"\"\""
   ]
  },
  {
   "cell_type": "code",
   "execution_count": null,
   "id": "c78595ff",
   "metadata": {},
   "outputs": [],
   "source": [
    "\"\"\"\n",
    "21. Take 2 numbers from user as input and print smallest number as output\n",
    "\n",
    "\"\"\"\n"
   ]
  },
  {
   "cell_type": "code",
   "execution_count": null,
   "id": "4b68aa74",
   "metadata": {},
   "outputs": [],
   "source": [
    "\"\"\"\n",
    "22. Take salary from user as input and check if person is rich(>150000) or middleclass\n",
    "\n",
    "\"\"\""
   ]
  },
  {
   "cell_type": "code",
   "execution_count": null,
   "id": "bbef2fe2",
   "metadata": {},
   "outputs": [],
   "source": [
    "\"\"\"\n",
    "23. Take a number from user as input and check if entered number is multiple of 7 and 5 or not\n",
    "if multiple then print square of number\n",
    "otherwise print double of number\n",
    "\n",
    "\"\"\""
   ]
  },
  {
   "cell_type": "code",
   "execution_count": null,
   "id": "82c79e81",
   "metadata": {},
   "outputs": [],
   "source": [
    "\"\"\"\n",
    "24. Take price amount from user as input\n",
    "if price is greater than 1000 then give it 30% discount\n",
    "otherwise give 20% discount\n",
    "\n",
    "\"\"\""
   ]
  },
  {
   "cell_type": "code",
   "execution_count": null,
   "id": "8cb1102b",
   "metadata": {},
   "outputs": [],
   "source": [
    "\"\"\"\n",
    "\n",
    "25. Take radius from user and calculate the area of circle\n",
    "if area is greater than 500 then half the area\n",
    "if area is less than 500 then double the area\n",
    "\n",
    "\"\"\""
   ]
  },
  {
   "cell_type": "code",
   "execution_count": null,
   "id": "b9303408",
   "metadata": {},
   "outputs": [],
   "source": [
    "\"\"\"\n",
    "26. Take mark of one subject from student as input and print pass or fail based on marks\n",
    "if marks are greater than 35 then pass\n",
    "otherwise fail\n",
    "\n",
    "\"\"\""
   ]
  }
 ],
 "metadata": {
  "kernelspec": {
   "display_name": "Python 3 (ipykernel)",
   "language": "python",
   "name": "python3"
  },
  "language_info": {
   "codemirror_mode": {
    "name": "ipython",
    "version": 3
   },
   "file_extension": ".py",
   "mimetype": "text/x-python",
   "name": "python",
   "nbconvert_exporter": "python",
   "pygments_lexer": "ipython3",
   "version": "3.11.0"
  }
 },
 "nbformat": 4,
 "nbformat_minor": 5
}
